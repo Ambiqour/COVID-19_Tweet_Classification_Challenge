{
 "cells": [
  {
   "cell_type": "markdown",
   "id": "7c94a840",
   "metadata": {},
   "source": [
    "# PROJECT  : Vaccine Prediction\n"
   ]
  },
  {
   "cell_type": "markdown",
   "id": "3e33d743",
   "metadata": {},
   "source": [
    "## Compiled by: Mashele G.P"
   ]
  },
  {
   "cell_type": "markdown",
   "id": "6bee62e9",
   "metadata": {},
   "source": [
    "## Data Description\n",
    "* tweet_id: Unique identifier of the tweet\n",
    "* safe_tweet: Text contained in the tweet. Some sensitive information has been removed like usernames and urls\n",
    "* label: Sentiment of the tweet (-1 for negative, 0 for neutral, 1 for positive)\n",
    "* agreement: The tweets were labeled by three people. Agreement indicates the percentage of the three reviewers that agreed on the given label. You may use this column in your training, but agreement data will not be shared for the test set."
   ]
  },
  {
   "cell_type": "code",
   "execution_count": null,
   "id": "c6bf2da7",
   "metadata": {},
   "outputs": [],
   "source": [
    "!pip3 install catboost"
   ]
  },
  {
   "cell_type": "markdown",
   "id": "80708075",
   "metadata": {},
   "source": [
    "### Import the necessary libraries"
   ]
  },
  {
   "cell_type": "code",
   "execution_count": 2,
   "id": "8420ac92",
   "metadata": {},
   "outputs": [],
   "source": [
    "# Libraries to help with reading and manipulating data\n",
    "import pandas as pd\n",
    "import numpy as np\n",
    "# Libaries to assist with visualization of data\n",
    "import matplotlib.pyplot as plt\n",
    "import seaborn as sns\n",
    "# To tune model, get different metric scores, and split data\n",
    "from sklearn.metrics import (mean_squared_error,mean_absolute_error,r2_score)\n",
    "from sklearn import metrics\n",
    "from sklearn.model_selection import train_test_split, StratifiedKFold, cross_val_score\n",
    "# To be used for data scaling \n",
    "from sklearn.preprocessing import StandardScaler\n",
    "# To be used for categorical feature selection\n",
    "from sklearn.feature_selection import chi2\n",
    "# To oversample and undersample data\n",
    "from imblearn import under_sampling, over_sampling\n",
    "from imblearn.over_sampling import SMOTE\n",
    "from imblearn.under_sampling import RandomUnderSampler\n",
    "# To do hyperparameter tuning\n",
    "from sklearn.model_selection import GridSearchCV\n",
    "from sklearn.model_selection import RandomizedSearchCV\n",
    "# To define maximum number of columns to be displayed in a dataframe\n",
    "pd.set_option(\"display.max_columns\", None)\n",
    "pd.set_option(\"display.max_rows\", None)\n",
    "# To supress scientific notations for a dataframe\n",
    "pd.set_option(\"display.float_format\", lambda x: \"%.3f\" % x)\n",
    "# To help with model building\n",
    "from catboost import CatBoostRegressor\n",
    "# To suppress scientific notations\n",
    "pd.set_option(\"display.float_format\", lambda x: \"%.3f\" % x)\n",
    "# To suppress warnings\n",
    "import warnings\n",
    "warnings.filterwarnings(\"ignore\")"
   ]
  },
  {
   "cell_type": "code",
   "execution_count": 3,
   "id": "c868656d",
   "metadata": {},
   "outputs": [],
   "source": [
    "### Lets the read the training and testing dataset \n",
    "train_data = pd.read_csv('Vaccine_train_data (10).csv')\n",
    "test_data = pd.read_csv('Vaccine_test_data.csv')"
   ]
  },
  {
   "cell_type": "code",
   "execution_count": 4,
   "id": "17217251",
   "metadata": {},
   "outputs": [
    {
     "data": {
      "text/html": [
       "<div>\n",
       "<style scoped>\n",
       "    .dataframe tbody tr th:only-of-type {\n",
       "        vertical-align: middle;\n",
       "    }\n",
       "\n",
       "    .dataframe tbody tr th {\n",
       "        vertical-align: top;\n",
       "    }\n",
       "\n",
       "    .dataframe thead th {\n",
       "        text-align: right;\n",
       "    }\n",
       "</style>\n",
       "<table border=\"1\" class=\"dataframe\">\n",
       "  <thead>\n",
       "    <tr style=\"text-align: right;\">\n",
       "      <th></th>\n",
       "      <th>tweet_id</th>\n",
       "      <th>safe_text</th>\n",
       "      <th>label</th>\n",
       "      <th>agreement</th>\n",
       "    </tr>\n",
       "  </thead>\n",
       "  <tbody>\n",
       "    <tr>\n",
       "      <th>0</th>\n",
       "      <td>CL1KWCMY</td>\n",
       "      <td>Me &amp;amp; The Big Homie meanboy3000 #MEANBOY #M...</td>\n",
       "      <td>0.000</td>\n",
       "      <td>1.000</td>\n",
       "    </tr>\n",
       "    <tr>\n",
       "      <th>1</th>\n",
       "      <td>E3303EME</td>\n",
       "      <td>I'm 100% thinking of devoting my career to pro...</td>\n",
       "      <td>1.000</td>\n",
       "      <td>1.000</td>\n",
       "    </tr>\n",
       "    <tr>\n",
       "      <th>2</th>\n",
       "      <td>M4IVFSMS</td>\n",
       "      <td>#whatcausesautism VACCINES, DO NOT VACCINATE Y...</td>\n",
       "      <td>-1.000</td>\n",
       "      <td>1.000</td>\n",
       "    </tr>\n",
       "    <tr>\n",
       "      <th>3</th>\n",
       "      <td>1DR6ROZ4</td>\n",
       "      <td>I mean if they immunize my kid with something ...</td>\n",
       "      <td>-1.000</td>\n",
       "      <td>1.000</td>\n",
       "    </tr>\n",
       "    <tr>\n",
       "      <th>4</th>\n",
       "      <td>J77ENIIE</td>\n",
       "      <td>Thanks to &lt;user&gt; Catch me performing at La Nui...</td>\n",
       "      <td>0.000</td>\n",
       "      <td>1.000</td>\n",
       "    </tr>\n",
       "  </tbody>\n",
       "</table>\n",
       "</div>"
      ],
      "text/plain": [
       "   tweet_id                                          safe_text  label  \\\n",
       "0  CL1KWCMY  Me &amp; The Big Homie meanboy3000 #MEANBOY #M...  0.000   \n",
       "1  E3303EME  I'm 100% thinking of devoting my career to pro...  1.000   \n",
       "2  M4IVFSMS  #whatcausesautism VACCINES, DO NOT VACCINATE Y... -1.000   \n",
       "3  1DR6ROZ4  I mean if they immunize my kid with something ... -1.000   \n",
       "4  J77ENIIE  Thanks to <user> Catch me performing at La Nui...  0.000   \n",
       "\n",
       "   agreement  \n",
       "0      1.000  \n",
       "1      1.000  \n",
       "2      1.000  \n",
       "3      1.000  \n",
       "4      1.000  "
      ]
     },
     "execution_count": 4,
     "metadata": {},
     "output_type": "execute_result"
    }
   ],
   "source": [
    "# Print the first five rows of the  train dataset\n",
    "train_data.head()  "
   ]
  },
  {
   "cell_type": "code",
   "execution_count": 5,
   "id": "f1915d50",
   "metadata": {
    "scrolled": true
   },
   "outputs": [
    {
     "data": {
      "text/html": [
       "<div>\n",
       "<style scoped>\n",
       "    .dataframe tbody tr th:only-of-type {\n",
       "        vertical-align: middle;\n",
       "    }\n",
       "\n",
       "    .dataframe tbody tr th {\n",
       "        vertical-align: top;\n",
       "    }\n",
       "\n",
       "    .dataframe thead th {\n",
       "        text-align: right;\n",
       "    }\n",
       "</style>\n",
       "<table border=\"1\" class=\"dataframe\">\n",
       "  <thead>\n",
       "    <tr style=\"text-align: right;\">\n",
       "      <th></th>\n",
       "      <th>tweet_id</th>\n",
       "      <th>safe_text</th>\n",
       "      <th>label</th>\n",
       "      <th>agreement</th>\n",
       "    </tr>\n",
       "  </thead>\n",
       "  <tbody>\n",
       "    <tr>\n",
       "      <th>9996</th>\n",
       "      <td>IU0TIJDI</td>\n",
       "      <td>Living in a time where the sperm I used to was...</td>\n",
       "      <td>1.000</td>\n",
       "      <td>1.000</td>\n",
       "    </tr>\n",
       "    <tr>\n",
       "      <th>9997</th>\n",
       "      <td>WKKPCJY6</td>\n",
       "      <td>&lt;user&gt; &lt;user&gt;  In spite of all measles outbrea...</td>\n",
       "      <td>1.000</td>\n",
       "      <td>0.667</td>\n",
       "    </tr>\n",
       "    <tr>\n",
       "      <th>9998</th>\n",
       "      <td>ST3A265H</td>\n",
       "      <td>Interesting trends in child immunization in Ok...</td>\n",
       "      <td>0.000</td>\n",
       "      <td>1.000</td>\n",
       "    </tr>\n",
       "    <tr>\n",
       "      <th>9999</th>\n",
       "      <td>6Z27IJGD</td>\n",
       "      <td>CDC Says Measles Are At Highest Levels In Deca...</td>\n",
       "      <td>0.000</td>\n",
       "      <td>1.000</td>\n",
       "    </tr>\n",
       "    <tr>\n",
       "      <th>10000</th>\n",
       "      <td>P6190L3Q</td>\n",
       "      <td>Pneumonia vaccine: for women w risk of pulmona...</td>\n",
       "      <td>1.000</td>\n",
       "      <td>0.667</td>\n",
       "    </tr>\n",
       "  </tbody>\n",
       "</table>\n",
       "</div>"
      ],
      "text/plain": [
       "       tweet_id                                          safe_text  label  \\\n",
       "9996   IU0TIJDI  Living in a time where the sperm I used to was...  1.000   \n",
       "9997   WKKPCJY6  <user> <user>  In spite of all measles outbrea...  1.000   \n",
       "9998   ST3A265H  Interesting trends in child immunization in Ok...  0.000   \n",
       "9999   6Z27IJGD  CDC Says Measles Are At Highest Levels In Deca...  0.000   \n",
       "10000  P6190L3Q  Pneumonia vaccine: for women w risk of pulmona...  1.000   \n",
       "\n",
       "       agreement  \n",
       "9996       1.000  \n",
       "9997       0.667  \n",
       "9998       1.000  \n",
       "9999       1.000  \n",
       "10000      0.667  "
      ]
     },
     "execution_count": 5,
     "metadata": {},
     "output_type": "execute_result"
    }
   ],
   "source": [
    "# Print the last five rows of the training dataset\n",
    "train_data.tail()"
   ]
  },
  {
   "cell_type": "code",
   "execution_count": 6,
   "id": "ec036952",
   "metadata": {},
   "outputs": [
    {
     "data": {
      "text/plain": [
       "(10001, 4)"
      ]
     },
     "execution_count": 6,
     "metadata": {},
     "output_type": "execute_result"
    }
   ],
   "source": [
    "## Code to print the dimension of the training dataset\n",
    "train_data.shape"
   ]
  },
  {
   "cell_type": "code",
   "execution_count": 7,
   "id": "fbe14ccb",
   "metadata": {},
   "outputs": [
    {
     "name": "stdout",
     "output_type": "stream",
     "text": [
      " The training dataset consist of 10001 rows and 4 columns\n"
     ]
    }
   ],
   "source": [
    "print(f\" The training dataset consist of {train_data.shape[0]} rows and {train_data.shape[1]} columns\")"
   ]
  },
  {
   "cell_type": "code",
   "execution_count": 8,
   "id": "49e82c41",
   "metadata": {},
   "outputs": [
    {
     "name": "stdout",
     "output_type": "stream",
     "text": [
      "<class 'pandas.core.frame.DataFrame'>\n",
      "RangeIndex: 10001 entries, 0 to 10000\n",
      "Data columns (total 4 columns):\n",
      " #   Column     Non-Null Count  Dtype  \n",
      "---  ------     --------------  -----  \n",
      " 0   tweet_id   10001 non-null  object \n",
      " 1   safe_text  10001 non-null  object \n",
      " 2   label      10000 non-null  float64\n",
      " 3   agreement  9999 non-null   float64\n",
      "dtypes: float64(2), object(2)\n",
      "memory usage: 312.7+ KB\n"
     ]
    }
   ],
   "source": [
    "## Code to display the datatypes in the training set\n",
    "train_data.info()"
   ]
  },
  {
   "cell_type": "code",
   "execution_count": 9,
   "id": "cbb44bc3",
   "metadata": {},
   "outputs": [
    {
     "data": {
      "text/html": [
       "<div>\n",
       "<style scoped>\n",
       "    .dataframe tbody tr th:only-of-type {\n",
       "        vertical-align: middle;\n",
       "    }\n",
       "\n",
       "    .dataframe tbody tr th {\n",
       "        vertical-align: top;\n",
       "    }\n",
       "\n",
       "    .dataframe thead th {\n",
       "        text-align: right;\n",
       "    }\n",
       "</style>\n",
       "<table border=\"1\" class=\"dataframe\">\n",
       "  <thead>\n",
       "    <tr style=\"text-align: right;\">\n",
       "      <th></th>\n",
       "      <th>count</th>\n",
       "      <th>mean</th>\n",
       "      <th>std</th>\n",
       "      <th>min</th>\n",
       "      <th>25%</th>\n",
       "      <th>50%</th>\n",
       "      <th>75%</th>\n",
       "      <th>max</th>\n",
       "    </tr>\n",
       "  </thead>\n",
       "  <tbody>\n",
       "    <tr>\n",
       "      <th>label</th>\n",
       "      <td>10000.000</td>\n",
       "      <td>0.302</td>\n",
       "      <td>0.647</td>\n",
       "      <td>-1.000</td>\n",
       "      <td>0.000</td>\n",
       "      <td>0.000</td>\n",
       "      <td>1.000</td>\n",
       "      <td>1.000</td>\n",
       "    </tr>\n",
       "    <tr>\n",
       "      <th>agreement</th>\n",
       "      <td>9999.000</td>\n",
       "      <td>0.854</td>\n",
       "      <td>0.181</td>\n",
       "      <td>0.333</td>\n",
       "      <td>0.667</td>\n",
       "      <td>1.000</td>\n",
       "      <td>1.000</td>\n",
       "      <td>1.000</td>\n",
       "    </tr>\n",
       "  </tbody>\n",
       "</table>\n",
       "</div>"
      ],
      "text/plain": [
       "              count  mean   std    min   25%   50%   75%   max\n",
       "label     10000.000 0.302 0.647 -1.000 0.000 0.000 1.000 1.000\n",
       "agreement  9999.000 0.854 0.181  0.333 0.667 1.000 1.000 1.000"
      ]
     },
     "execution_count": 9,
     "metadata": {},
     "output_type": "execute_result"
    }
   ],
   "source": [
    "## Code to  display the statistical summary for the training dataset\n",
    "train_data.describe().T"
   ]
  },
  {
   "cell_type": "code",
   "execution_count": 10,
   "id": "b1ee2a9f",
   "metadata": {},
   "outputs": [
    {
     "data": {
      "text/html": [
       "<div>\n",
       "<style scoped>\n",
       "    .dataframe tbody tr th:only-of-type {\n",
       "        vertical-align: middle;\n",
       "    }\n",
       "\n",
       "    .dataframe tbody tr th {\n",
       "        vertical-align: top;\n",
       "    }\n",
       "\n",
       "    .dataframe thead th {\n",
       "        text-align: right;\n",
       "    }\n",
       "</style>\n",
       "<table border=\"1\" class=\"dataframe\">\n",
       "  <thead>\n",
       "    <tr style=\"text-align: right;\">\n",
       "      <th></th>\n",
       "      <th>tweet_id</th>\n",
       "      <th>safe_text</th>\n",
       "    </tr>\n",
       "  </thead>\n",
       "  <tbody>\n",
       "    <tr>\n",
       "      <th>0</th>\n",
       "      <td>00BHHHP1</td>\n",
       "      <td>&lt;user&gt; &lt;user&gt; ... &amp;amp; 4 a vaccine given 2 he...</td>\n",
       "    </tr>\n",
       "    <tr>\n",
       "      <th>1</th>\n",
       "      <td>00UNMD0E</td>\n",
       "      <td>Students starting school without whooping coug...</td>\n",
       "    </tr>\n",
       "    <tr>\n",
       "      <th>2</th>\n",
       "      <td>01AXPTJF</td>\n",
       "      <td>I'm kinda over every ep of &lt;user&gt; being \"rippe...</td>\n",
       "    </tr>\n",
       "    <tr>\n",
       "      <th>3</th>\n",
       "      <td>01HOEQJW</td>\n",
       "      <td>How many innocent children die for lack of vac...</td>\n",
       "    </tr>\n",
       "    <tr>\n",
       "      <th>4</th>\n",
       "      <td>01JUKMAO</td>\n",
       "      <td>CDC eyeing bird flu vaccine for humans, though...</td>\n",
       "    </tr>\n",
       "  </tbody>\n",
       "</table>\n",
       "</div>"
      ],
      "text/plain": [
       "   tweet_id                                          safe_text\n",
       "0  00BHHHP1  <user> <user> ... &amp; 4 a vaccine given 2 he...\n",
       "1  00UNMD0E  Students starting school without whooping coug...\n",
       "2  01AXPTJF  I'm kinda over every ep of <user> being \"rippe...\n",
       "3  01HOEQJW  How many innocent children die for lack of vac...\n",
       "4  01JUKMAO  CDC eyeing bird flu vaccine for humans, though..."
      ]
     },
     "execution_count": 10,
     "metadata": {},
     "output_type": "execute_result"
    }
   ],
   "source": [
    "## Code to print the first five rows of the testing dataset\n",
    "test_data.head()"
   ]
  },
  {
   "cell_type": "code",
   "execution_count": 11,
   "id": "395a4a06",
   "metadata": {},
   "outputs": [
    {
     "data": {
      "text/plain": [
       "3"
      ]
     },
     "execution_count": 11,
     "metadata": {},
     "output_type": "execute_result"
    }
   ],
   "source": [
    "### Code to  check for missing values in the dataset\n",
    "train_data.isnull().sum().sum()"
   ]
  },
  {
   "cell_type": "markdown",
   "id": "63b3120b",
   "metadata": {},
   "source": [
    "### Observation\n",
    "* There are 1435 missing values in the training dataset"
   ]
  },
  {
   "cell_type": "code",
   "execution_count": 12,
   "id": "8adabc46",
   "metadata": {},
   "outputs": [
    {
     "data": {
      "text/plain": [
       "0"
      ]
     },
     "execution_count": 12,
     "metadata": {},
     "output_type": "execute_result"
    }
   ],
   "source": [
    "###  Code to check for duplicates in the training dataset\n",
    "train_data.duplicated().sum()"
   ]
  },
  {
   "cell_type": "markdown",
   "id": "8ad846a0",
   "metadata": {},
   "source": [
    "### Observation\n",
    "* There are  no duplicates present in the training dataset"
   ]
  },
  {
   "cell_type": "code",
   "execution_count": 13,
   "id": "28f65352",
   "metadata": {},
   "outputs": [
    {
     "data": {
      "text/html": [
       "<div>\n",
       "<style scoped>\n",
       "    .dataframe tbody tr th:only-of-type {\n",
       "        vertical-align: middle;\n",
       "    }\n",
       "\n",
       "    .dataframe tbody tr th {\n",
       "        vertical-align: top;\n",
       "    }\n",
       "\n",
       "    .dataframe thead th {\n",
       "        text-align: right;\n",
       "    }\n",
       "</style>\n",
       "<table border=\"1\" class=\"dataframe\">\n",
       "  <thead>\n",
       "    <tr style=\"text-align: right;\">\n",
       "      <th></th>\n",
       "      <th>tweet_id</th>\n",
       "      <th>safe_text</th>\n",
       "    </tr>\n",
       "  </thead>\n",
       "  <tbody>\n",
       "    <tr>\n",
       "      <th>0</th>\n",
       "      <td>00BHHHP1</td>\n",
       "      <td>&lt;user&gt; &lt;user&gt; ... &amp;amp; 4 a vaccine given 2 he...</td>\n",
       "    </tr>\n",
       "    <tr>\n",
       "      <th>1</th>\n",
       "      <td>00UNMD0E</td>\n",
       "      <td>Students starting school without whooping coug...</td>\n",
       "    </tr>\n",
       "    <tr>\n",
       "      <th>2</th>\n",
       "      <td>01AXPTJF</td>\n",
       "      <td>I'm kinda over every ep of &lt;user&gt; being \"rippe...</td>\n",
       "    </tr>\n",
       "    <tr>\n",
       "      <th>3</th>\n",
       "      <td>01HOEQJW</td>\n",
       "      <td>How many innocent children die for lack of vac...</td>\n",
       "    </tr>\n",
       "    <tr>\n",
       "      <th>4</th>\n",
       "      <td>01JUKMAO</td>\n",
       "      <td>CDC eyeing bird flu vaccine for humans, though...</td>\n",
       "    </tr>\n",
       "  </tbody>\n",
       "</table>\n",
       "</div>"
      ],
      "text/plain": [
       "   tweet_id                                          safe_text\n",
       "0  00BHHHP1  <user> <user> ... &amp; 4 a vaccine given 2 he...\n",
       "1  00UNMD0E  Students starting school without whooping coug...\n",
       "2  01AXPTJF  I'm kinda over every ep of <user> being \"rippe...\n",
       "3  01HOEQJW  How many innocent children die for lack of vac...\n",
       "4  01JUKMAO  CDC eyeing bird flu vaccine for humans, though..."
      ]
     },
     "execution_count": 13,
     "metadata": {},
     "output_type": "execute_result"
    }
   ],
   "source": [
    "### Print the first fives rows of the testing dataset\n",
    "test_data.head()"
   ]
  },
  {
   "cell_type": "code",
   "execution_count": 14,
   "id": "7f022a53",
   "metadata": {},
   "outputs": [
    {
     "name": "stdout",
     "output_type": "stream",
     "text": [
      "<class 'pandas.core.frame.DataFrame'>\n",
      "RangeIndex: 5177 entries, 0 to 5176\n",
      "Data columns (total 2 columns):\n",
      " #   Column     Non-Null Count  Dtype \n",
      "---  ------     --------------  ----- \n",
      " 0   tweet_id   5177 non-null   object\n",
      " 1   safe_text  5176 non-null   object\n",
      "dtypes: object(2)\n",
      "memory usage: 81.0+ KB\n"
     ]
    }
   ],
   "source": [
    "# Code to display the dataset data types\n",
    "test_data.info()"
   ]
  },
  {
   "cell_type": "code",
   "execution_count": 15,
   "id": "12799b0b",
   "metadata": {},
   "outputs": [
    {
     "data": {
      "text/plain": [
       "(5177, 2)"
      ]
     },
     "execution_count": 15,
     "metadata": {},
     "output_type": "execute_result"
    }
   ],
   "source": [
    "### Check the dimension of the testing datset\n",
    "test_data.shape"
   ]
  },
  {
   "cell_type": "code",
   "execution_count": 16,
   "id": "66fcbf77",
   "metadata": {},
   "outputs": [
    {
     "name": "stdout",
     "output_type": "stream",
     "text": [
      "The tourism testing dataset consist of 5177 rows and 2 columns\n"
     ]
    }
   ],
   "source": [
    "print(f\"The tourism testing dataset consist of {test_data.shape[0]} rows and {test_data.shape[1]} columns\")"
   ]
  },
  {
   "cell_type": "code",
   "execution_count": 17,
   "id": "672d2086",
   "metadata": {},
   "outputs": [
    {
     "data": {
      "text/html": [
       "<div>\n",
       "<style scoped>\n",
       "    .dataframe tbody tr th:only-of-type {\n",
       "        vertical-align: middle;\n",
       "    }\n",
       "\n",
       "    .dataframe tbody tr th {\n",
       "        vertical-align: top;\n",
       "    }\n",
       "\n",
       "    .dataframe thead th {\n",
       "        text-align: right;\n",
       "    }\n",
       "</style>\n",
       "<table border=\"1\" class=\"dataframe\">\n",
       "  <thead>\n",
       "    <tr style=\"text-align: right;\">\n",
       "      <th></th>\n",
       "      <th>count</th>\n",
       "      <th>unique</th>\n",
       "      <th>top</th>\n",
       "      <th>freq</th>\n",
       "    </tr>\n",
       "  </thead>\n",
       "  <tbody>\n",
       "    <tr>\n",
       "      <th>tweet_id</th>\n",
       "      <td>5177</td>\n",
       "      <td>5177</td>\n",
       "      <td>00BHHHP1</td>\n",
       "      <td>1</td>\n",
       "    </tr>\n",
       "    <tr>\n",
       "      <th>safe_text</th>\n",
       "      <td>5176</td>\n",
       "      <td>5061</td>\n",
       "      <td>&lt;user&gt; #GOP STOP blaming #Immigrants first #Eb...</td>\n",
       "      <td>9</td>\n",
       "    </tr>\n",
       "  </tbody>\n",
       "</table>\n",
       "</div>"
      ],
      "text/plain": [
       "          count unique                                                top freq\n",
       "tweet_id   5177   5177                                           00BHHHP1    1\n",
       "safe_text  5176   5061  <user> #GOP STOP blaming #Immigrants first #Eb...    9"
      ]
     },
     "execution_count": 17,
     "metadata": {},
     "output_type": "execute_result"
    }
   ],
   "source": [
    "### Print the statistical summary in the testing dataset\n",
    "test_data.describe().T"
   ]
  },
  {
   "cell_type": "markdown",
   "id": "fb76a627",
   "metadata": {},
   "source": [
    "### Observation"
   ]
  },
  {
   "cell_type": "code",
   "execution_count": 18,
   "id": "831e4b01",
   "metadata": {},
   "outputs": [
    {
     "data": {
      "text/plain": [
       "1"
      ]
     },
     "execution_count": 18,
     "metadata": {},
     "output_type": "execute_result"
    }
   ],
   "source": [
    "### Check for missing values in the testing dataset\n",
    "test_data.isnull().sum().sum()"
   ]
  },
  {
   "cell_type": "markdown",
   "id": "d8554cab",
   "metadata": {},
   "source": [
    "## Observation\n",
    "* There are 441 missing values in the testing dataset"
   ]
  },
  {
   "cell_type": "code",
   "execution_count": 19,
   "id": "97ef0a72",
   "metadata": {},
   "outputs": [
    {
     "data": {
      "text/plain": [
       "0"
      ]
     },
     "execution_count": 19,
     "metadata": {},
     "output_type": "execute_result"
    }
   ],
   "source": [
    "### Check for duplicates in the testing dataset\n",
    "test_data.duplicated().sum()"
   ]
  },
  {
   "cell_type": "code",
   "execution_count": 20,
   "id": "457863ab",
   "metadata": {},
   "outputs": [],
   "source": [
    "### Make copies of both the training and testing dataset\n",
    "data = train_data.copy()\n",
    "data_test = test_data.copy()"
   ]
  },
  {
   "cell_type": "code",
   "execution_count": 21,
   "id": "7e21af90",
   "metadata": {},
   "outputs": [
    {
     "data": {
      "text/plain": [
       "Index(['tweet_id', 'safe_text', 'label', 'agreement'], dtype='object')"
      ]
     },
     "execution_count": 21,
     "metadata": {},
     "output_type": "execute_result"
    }
   ],
   "source": [
    "data.columns"
   ]
  },
  {
   "cell_type": "code",
   "execution_count": 22,
   "id": "c92bfd1b",
   "metadata": {},
   "outputs": [],
   "source": [
    "### Now lets drop the ID column in both the training and testing dataset\n",
    "data = data.drop('agreement',axis=1)"
   ]
  },
  {
   "cell_type": "code",
   "execution_count": 23,
   "id": "cf896f7f",
   "metadata": {},
   "outputs": [
    {
     "data": {
      "text/html": [
       "<div>\n",
       "<style scoped>\n",
       "    .dataframe tbody tr th:only-of-type {\n",
       "        vertical-align: middle;\n",
       "    }\n",
       "\n",
       "    .dataframe tbody tr th {\n",
       "        vertical-align: top;\n",
       "    }\n",
       "\n",
       "    .dataframe thead th {\n",
       "        text-align: right;\n",
       "    }\n",
       "</style>\n",
       "<table border=\"1\" class=\"dataframe\">\n",
       "  <thead>\n",
       "    <tr style=\"text-align: right;\">\n",
       "      <th></th>\n",
       "      <th>tweet_id</th>\n",
       "      <th>safe_text</th>\n",
       "      <th>label</th>\n",
       "    </tr>\n",
       "  </thead>\n",
       "  <tbody>\n",
       "    <tr>\n",
       "      <th>0</th>\n",
       "      <td>CL1KWCMY</td>\n",
       "      <td>Me &amp;amp; The Big Homie meanboy3000 #MEANBOY #M...</td>\n",
       "      <td>0.000</td>\n",
       "    </tr>\n",
       "    <tr>\n",
       "      <th>1</th>\n",
       "      <td>E3303EME</td>\n",
       "      <td>I'm 100% thinking of devoting my career to pro...</td>\n",
       "      <td>1.000</td>\n",
       "    </tr>\n",
       "    <tr>\n",
       "      <th>2</th>\n",
       "      <td>M4IVFSMS</td>\n",
       "      <td>#whatcausesautism VACCINES, DO NOT VACCINATE Y...</td>\n",
       "      <td>-1.000</td>\n",
       "    </tr>\n",
       "    <tr>\n",
       "      <th>3</th>\n",
       "      <td>1DR6ROZ4</td>\n",
       "      <td>I mean if they immunize my kid with something ...</td>\n",
       "      <td>-1.000</td>\n",
       "    </tr>\n",
       "    <tr>\n",
       "      <th>4</th>\n",
       "      <td>J77ENIIE</td>\n",
       "      <td>Thanks to &lt;user&gt; Catch me performing at La Nui...</td>\n",
       "      <td>0.000</td>\n",
       "    </tr>\n",
       "  </tbody>\n",
       "</table>\n",
       "</div>"
      ],
      "text/plain": [
       "   tweet_id                                          safe_text  label\n",
       "0  CL1KWCMY  Me &amp; The Big Homie meanboy3000 #MEANBOY #M...  0.000\n",
       "1  E3303EME  I'm 100% thinking of devoting my career to pro...  1.000\n",
       "2  M4IVFSMS  #whatcausesautism VACCINES, DO NOT VACCINATE Y... -1.000\n",
       "3  1DR6ROZ4  I mean if they immunize my kid with something ... -1.000\n",
       "4  J77ENIIE  Thanks to <user> Catch me performing at La Nui...  0.000"
      ]
     },
     "execution_count": 23,
     "metadata": {},
     "output_type": "execute_result"
    }
   ],
   "source": [
    "data.head()"
   ]
  },
  {
   "cell_type": "code",
   "execution_count": 24,
   "id": "0184bd8c",
   "metadata": {},
   "outputs": [
    {
     "data": {
      "text/plain": [
       "(10001, 3)"
      ]
     },
     "execution_count": 24,
     "metadata": {},
     "output_type": "execute_result"
    }
   ],
   "source": [
    "data.shape"
   ]
  },
  {
   "cell_type": "code",
   "execution_count": 25,
   "id": "2de15228",
   "metadata": {},
   "outputs": [
    {
     "data": {
      "text/plain": [
       "label\n",
       "0.000    0.491\n",
       "1.000    0.405\n",
       "-1.000   0.104\n",
       "0.667    0.000\n",
       "Name: proportion, dtype: float64"
      ]
     },
     "execution_count": 25,
     "metadata": {},
     "output_type": "execute_result"
    }
   ],
   "source": [
    "data['label'].value_counts(normalize=True)"
   ]
  },
  {
   "cell_type": "markdown",
   "id": "9c7ec9ee",
   "metadata": {},
   "source": [
    "# Exploratory data analysis(EDA)"
   ]
  },
  {
   "cell_type": "markdown",
   "id": "43016284",
   "metadata": {},
   "source": [
    "## Univariate data analysis"
   ]
  },
  {
   "cell_type": "markdown",
   "id": "16d148d4",
   "metadata": {},
   "source": [
    "### Numerical data"
   ]
  },
  {
   "cell_type": "code",
   "execution_count": 26,
   "id": "555d837a",
   "metadata": {},
   "outputs": [],
   "source": [
    "# Code to select the numerical columns from the training dataset\n",
    "numerical_columns = data.select_dtypes(\"number\").columns"
   ]
  },
  {
   "cell_type": "code",
   "execution_count": 27,
   "id": "304ad3df",
   "metadata": {},
   "outputs": [],
   "source": [
    "### Code to create a function to display histogram and boxplot for numerical dataset\n",
    "def box_histplot(data,item):\n",
    "    \n",
    "    plt.figure(figsize=(15,5))                    # increase the size of the plot\n",
    "    plt.title(f\"Histogram for {item}\")           # Give the graph a title\n",
    "    plt.xlabel(item)                            # set the label on the x-axis\n",
    "    plt.ylabel(\"frequency\")                     # set the label on the y-axis\n",
    "    sns.histplot(data=data,x=item,kde=False);  # histogram for numerical dataset\n",
    "    plt.axvline(data[item].mean(),color=\"black\",linestyle=\"--\")\n",
    "    plt.axvline(data[item].median(),color=\"red\",linestyle=\"-\")\n",
    "    plt.show()\n",
    "    plt.figure(figsize=(15,5))                     # increase the size of the plot\n",
    "    plt.title(f\"Boxplot for {item}\")               # Give the plot a suitable title\n",
    "    sns.boxplot(data=data,x=item,showmeans=True);   # Boxplot for numerical dataset\n",
    "    plt.xlabel(item)                               # set the label on the x-axis\n",
    "    plt.show()"
   ]
  },
  {
   "cell_type": "code",
   "execution_count": 28,
   "id": "de7eb449",
   "metadata": {},
   "outputs": [
    {
     "data": {
      "text/plain": [
       "Index(['label'], dtype='object')"
      ]
     },
     "execution_count": 28,
     "metadata": {},
     "output_type": "execute_result"
    }
   ],
   "source": [
    "numerical_columns"
   ]
  },
  {
   "cell_type": "code",
   "execution_count": null,
   "id": "e1c26c9c",
   "metadata": {},
   "outputs": [],
   "source": [
    "# Code to call the function to display the histogram and boxplots for numerical columns\n",
    "for item in data[numerical_columns]:\n",
    "    box_histplot(data,item)"
   ]
  },
  {
   "cell_type": "markdown",
   "id": "962daba0",
   "metadata": {},
   "source": [
    "### Observation\n",
    "* About 93% of the predictor/independent variables are skewed to the right/positively skewed with oultiers on the right side of the whiskers.<br>\n",
    "* The regularity column is skewed to left with no outliers. <br>\n",
    "* Data preprocessing will be done to remove outliers in the numerical dataset.\n",
    "\n"
   ]
  },
  {
   "cell_type": "markdown",
   "id": "f6b6c038",
   "metadata": {},
   "source": [
    "## Categorical data analysis:"
   ]
  },
  {
   "cell_type": "code",
   "execution_count": 29,
   "id": "096a615b",
   "metadata": {},
   "outputs": [],
   "source": [
    "# Code to select categorical columns\n",
    "categorical_data = data.select_dtypes(\"object\").columns  "
   ]
  },
  {
   "cell_type": "code",
   "execution_count": 30,
   "id": "4a951bd6",
   "metadata": {},
   "outputs": [
    {
     "data": {
      "text/plain": [
       "Index(['tweet_id', 'safe_text'], dtype='object')"
      ]
     },
     "execution_count": 30,
     "metadata": {},
     "output_type": "execute_result"
    }
   ],
   "source": [
    "categorical_data"
   ]
  },
  {
   "cell_type": "code",
   "execution_count": null,
   "id": "2169e7d7",
   "metadata": {},
   "outputs": [],
   "source": [
    "## Create a function to display the bar graphs for categorical data columns\n",
    "def count_plot(data,item):\n",
    "    plt.figure(figsize=(5,4))            # increase the size of the plot\n",
    "    sns.countplot(data=data , x=item);   # countplot for categorical columns\n",
    "    plt.title(f\"Countplot for {item}\")   # add the title on the countplot\n",
    "    plt.ylabel(\"frequency\")              # add the label on the y-axis\n",
    "    plt.xticks(rotation=90) \n",
    "    plt.show()"
   ]
  },
  {
   "cell_type": "code",
   "execution_count": 31,
   "id": "05722024",
   "metadata": {},
   "outputs": [
    {
     "data": {
      "image/png": "[encoded data removed]",
      "text/plain": [
       "<Figure size 400x500 with 1 Axes>"
      ]
     },
     "metadata": {},
     "output_type": "display_data"
    }
   ],
   "source": [
    "# Create a pie chart to show the percentage for the age group\n",
    "plt.figure(figsize=(4,5))\n",
    "values = data[\"label\"].value_counts() /data.shape[0]\n",
    "plt.pie(values,labels=values.keys(),autopct=\"%1.1f%%\",shadow=True)\n",
    "plt.title(\"Percentage of labels \")\n",
    "plt.show()"
   ]
  },
  {
   "cell_type": "markdown",
   "id": "d630a70c",
   "metadata": {},
   "source": [
    "### Split the data into train and validation sets"
   ]
  },
  {
   "cell_type": "code",
   "execution_count": 32,
   "id": "8b378f0c",
   "metadata": {},
   "outputs": [],
   "source": [
    "data1 = data.copy()"
   ]
  },
  {
   "cell_type": "code",
   "execution_count": 33,
   "id": "505a9a41",
   "metadata": {},
   "outputs": [
    {
     "data": {
      "text/html": [
       "<div>\n",
       "<style scoped>\n",
       "    .dataframe tbody tr th:only-of-type {\n",
       "        vertical-align: middle;\n",
       "    }\n",
       "\n",
       "    .dataframe tbody tr th {\n",
       "        vertical-align: top;\n",
       "    }\n",
       "\n",
       "    .dataframe thead th {\n",
       "        text-align: right;\n",
       "    }\n",
       "</style>\n",
       "<table border=\"1\" class=\"dataframe\">\n",
       "  <thead>\n",
       "    <tr style=\"text-align: right;\">\n",
       "      <th></th>\n",
       "      <th>tweet_id</th>\n",
       "      <th>safe_text</th>\n",
       "      <th>label</th>\n",
       "    </tr>\n",
       "  </thead>\n",
       "  <tbody>\n",
       "    <tr>\n",
       "      <th>0</th>\n",
       "      <td>CL1KWCMY</td>\n",
       "      <td>Me &amp;amp; The Big Homie meanboy3000 #MEANBOY #M...</td>\n",
       "      <td>0.000</td>\n",
       "    </tr>\n",
       "    <tr>\n",
       "      <th>1</th>\n",
       "      <td>E3303EME</td>\n",
       "      <td>I'm 100% thinking of devoting my career to pro...</td>\n",
       "      <td>1.000</td>\n",
       "    </tr>\n",
       "    <tr>\n",
       "      <th>2</th>\n",
       "      <td>M4IVFSMS</td>\n",
       "      <td>#whatcausesautism VACCINES, DO NOT VACCINATE Y...</td>\n",
       "      <td>-1.000</td>\n",
       "    </tr>\n",
       "    <tr>\n",
       "      <th>3</th>\n",
       "      <td>1DR6ROZ4</td>\n",
       "      <td>I mean if they immunize my kid with something ...</td>\n",
       "      <td>-1.000</td>\n",
       "    </tr>\n",
       "    <tr>\n",
       "      <th>4</th>\n",
       "      <td>J77ENIIE</td>\n",
       "      <td>Thanks to &lt;user&gt; Catch me performing at La Nui...</td>\n",
       "      <td>0.000</td>\n",
       "    </tr>\n",
       "  </tbody>\n",
       "</table>\n",
       "</div>"
      ],
      "text/plain": [
       "   tweet_id                                          safe_text  label\n",
       "0  CL1KWCMY  Me &amp; The Big Homie meanboy3000 #MEANBOY #M...  0.000\n",
       "1  E3303EME  I'm 100% thinking of devoting my career to pro...  1.000\n",
       "2  M4IVFSMS  #whatcausesautism VACCINES, DO NOT VACCINATE Y... -1.000\n",
       "3  1DR6ROZ4  I mean if they immunize my kid with something ... -1.000\n",
       "4  J77ENIIE  Thanks to <user> Catch me performing at La Nui...  0.000"
      ]
     },
     "execution_count": 33,
     "metadata": {},
     "output_type": "execute_result"
    }
   ],
   "source": [
    "data1.head()"
   ]
  },
  {
   "cell_type": "code",
   "execution_count": 34,
   "id": "871f971f",
   "metadata": {},
   "outputs": [
    {
     "data": {
      "text/plain": [
       "Index(['tweet_id', 'safe_text', 'label'], dtype='object')"
      ]
     },
     "execution_count": 34,
     "metadata": {},
     "output_type": "execute_result"
    }
   ],
   "source": [
    "data1.columns"
   ]
  },
  {
   "cell_type": "code",
   "execution_count": 35,
   "id": "8d04d0a6",
   "metadata": {},
   "outputs": [],
   "source": [
    "### Drop the tweet-ID in the training and testing dataset\n",
    "data1 = data1.drop(columns='tweet_id',axis=1)\n",
    "data_test = data_test.drop(columns='tweet_id',axis=1)"
   ]
  },
  {
   "cell_type": "code",
   "execution_count": 36,
   "id": "81a9d6a3",
   "metadata": {},
   "outputs": [
    {
     "data": {
      "text/plain": [
       "((10001, 2), (5177, 1))"
      ]
     },
     "execution_count": 36,
     "metadata": {},
     "output_type": "execute_result"
    }
   ],
   "source": [
    "data1.shape, data_test.shape"
   ]
  },
  {
   "cell_type": "code",
   "execution_count": 37,
   "id": "e23c24a7",
   "metadata": {},
   "outputs": [],
   "source": [
    "# Dividing train data into X and y \n",
    "X = data1.drop(['label'], axis=1)\n",
    "y = data1['label']"
   ]
  },
  {
   "cell_type": "code",
   "execution_count": 38,
   "id": "4a3535ca",
   "metadata": {},
   "outputs": [],
   "source": [
    "# Splitting the dataset into training and validation set into a ratio of 70:30 \n",
    "X_train, X_val, y_train, y_val = train_test_split(X,y,test_size=0.30,random_state=42)"
   ]
  },
  {
   "cell_type": "code",
   "execution_count": 39,
   "id": "9e83e8d2",
   "metadata": {},
   "outputs": [
    {
     "name": "stdout",
     "output_type": "stream",
     "text": [
      "The training dataset consits of 7000 rows and 1 columns\n"
     ]
    }
   ],
   "source": [
    "print(f\"The training dataset consits of {X_train.shape[0]} rows and {X_train.shape[1]} columns\")"
   ]
  },
  {
   "cell_type": "code",
   "execution_count": 40,
   "id": "2912ffc6",
   "metadata": {},
   "outputs": [
    {
     "name": "stdout",
     "output_type": "stream",
     "text": [
      "The validation dataset consists of 3001 rows and 1 columns\n"
     ]
    }
   ],
   "source": [
    "print(f\"The validation dataset consists of {X_val.shape[0]} rows and {X_val.shape[1]} columns\")"
   ]
  },
  {
   "cell_type": "code",
   "execution_count": 41,
   "id": "043b7cb2",
   "metadata": {},
   "outputs": [
    {
     "data": {
      "text/html": [
       "<div>\n",
       "<style scoped>\n",
       "    .dataframe tbody tr th:only-of-type {\n",
       "        vertical-align: middle;\n",
       "    }\n",
       "\n",
       "    .dataframe tbody tr th {\n",
       "        vertical-align: top;\n",
       "    }\n",
       "\n",
       "    .dataframe thead th {\n",
       "        text-align: right;\n",
       "    }\n",
       "</style>\n",
       "<table border=\"1\" class=\"dataframe\">\n",
       "  <thead>\n",
       "    <tr style=\"text-align: right;\">\n",
       "      <th></th>\n",
       "      <th>safe_text</th>\n",
       "    </tr>\n",
       "  </thead>\n",
       "  <tbody>\n",
       "    <tr>\n",
       "      <th>2603</th>\n",
       "      <td>&lt;user&gt; sarcasm? If not, you are forgetting it ...</td>\n",
       "    </tr>\n",
       "    <tr>\n",
       "      <th>7738</th>\n",
       "      <td>OH: \"My kids had vaccines and THEY'RE not reta...</td>\n",
       "    </tr>\n",
       "    <tr>\n",
       "      <th>1579</th>\n",
       "      <td>DeSoto schools remind families to update stude...</td>\n",
       "    </tr>\n",
       "    <tr>\n",
       "      <th>5058</th>\n",
       "      <td>Reaction to the immunization. (@ Dean Health -...</td>\n",
       "    </tr>\n",
       "    <tr>\n",
       "      <th>5753</th>\n",
       "      <td>So the CDC says the flu vaccine this yr not so...</td>\n",
       "    </tr>\n",
       "  </tbody>\n",
       "</table>\n",
       "</div>"
      ],
      "text/plain": [
       "                                              safe_text\n",
       "2603  <user> sarcasm? If not, you are forgetting it ...\n",
       "7738  OH: \"My kids had vaccines and THEY'RE not reta...\n",
       "1579  DeSoto schools remind families to update stude...\n",
       "5058  Reaction to the immunization. (@ Dean Health -...\n",
       "5753  So the CDC says the flu vaccine this yr not so..."
      ]
     },
     "execution_count": 41,
     "metadata": {},
     "output_type": "execute_result"
    }
   ],
   "source": [
    "X_train.head()"
   ]
  },
  {
   "cell_type": "markdown",
   "id": "17d00067",
   "metadata": {},
   "source": [
    "## Data preprocessing"
   ]
  },
  {
   "cell_type": "markdown",
   "id": "e232dd3f",
   "metadata": {},
   "source": [
    "### Feature engineering"
   ]
  },
  {
   "cell_type": "markdown",
   "id": "8f4e9cf6",
   "metadata": {},
   "source": [
    "### Dealing with missing Values"
   ]
  },
  {
   "cell_type": "code",
   "execution_count": 42,
   "id": "7717dbe1",
   "metadata": {},
   "outputs": [
    {
     "data": {
      "text/plain": [
       "safe_text   0.000\n",
       "dtype: float64"
      ]
     },
     "execution_count": 42,
     "metadata": {},
     "output_type": "execute_result"
    }
   ],
   "source": [
    "X_train.isnull().sum()/X_train.shape[0] *100"
   ]
  },
  {
   "cell_type": "code",
   "execution_count": 43,
   "id": "18decc3d",
   "metadata": {},
   "outputs": [
    {
     "data": {
      "text/plain": [
       "safe_text   0.000\n",
       "dtype: float64"
      ]
     },
     "execution_count": 43,
     "metadata": {},
     "output_type": "execute_result"
    }
   ],
   "source": [
    "X_val.isnull().sum()/X_val.shape[0] *100"
   ]
  },
  {
   "cell_type": "code",
   "execution_count": null,
   "id": "72e495df",
   "metadata": {},
   "outputs": [],
   "source": [
    "## We need to drop columns with missing values greater than 50% in training dataset"
   ]
  },
  {
   "cell_type": "code",
   "execution_count": 44,
   "id": "f57a1f35",
   "metadata": {},
   "outputs": [
    {
     "name": "stdout",
     "output_type": "stream",
     "text": [
      "[]\n"
     ]
    }
   ],
   "source": [
    "## Code to print the columns with missing values greater than 50%\n",
    "col_feature=[] # create an empty list\n",
    "for item in data.columns:\n",
    "    if ((data[item].isnull().sum()/data.shape[0])>0.50):\n",
    "        col_feature.append(item)  # append the columns with missing values greater than 50% in the list\n",
    "print(col_feature) "
   ]
  },
  {
   "cell_type": "code",
   "execution_count": 45,
   "id": "296dd194",
   "metadata": {},
   "outputs": [],
   "source": [
    "### code to select the numerical columns in the training dataset\n",
    "train_cols = X_train.select_dtypes(\"number\").columns"
   ]
  },
  {
   "cell_type": "code",
   "execution_count": 46,
   "id": "87d98e62",
   "metadata": {},
   "outputs": [
    {
     "data": {
      "text/plain": [
       "Index([], dtype='object')"
      ]
     },
     "execution_count": 46,
     "metadata": {},
     "output_type": "execute_result"
    }
   ],
   "source": [
    "train_cols"
   ]
  },
  {
   "cell_type": "code",
   "execution_count": 47,
   "id": "6aa54a26",
   "metadata": {},
   "outputs": [],
   "source": [
    "# To impute missing values\n",
    "from sklearn.impute import SimpleImputer"
   ]
  },
  {
   "cell_type": "markdown",
   "id": "a20e6398",
   "metadata": {},
   "source": [
    "### Perfom imputation of missing values in the training set"
   ]
  },
  {
   "cell_type": "code",
   "execution_count": 48,
   "id": "2f477eb3",
   "metadata": {},
   "outputs": [
    {
     "data": {
      "text/plain": [
       "safe_text    0\n",
       "dtype: int64"
      ]
     },
     "execution_count": 48,
     "metadata": {},
     "output_type": "execute_result"
    }
   ],
   "source": [
    "X_train.isnull().sum()"
   ]
  },
  {
   "cell_type": "code",
   "execution_count": 49,
   "id": "2d989c75",
   "metadata": {},
   "outputs": [
    {
     "data": {
      "text/plain": [
       "safe_text    0\n",
       "dtype: int64"
      ]
     },
     "execution_count": 49,
     "metadata": {},
     "output_type": "execute_result"
    }
   ],
   "source": [
    "X_val.isnull().sum()"
   ]
  },
  {
   "cell_type": "code",
   "execution_count": 50,
   "id": "75c0ce74",
   "metadata": {},
   "outputs": [
    {
     "data": {
      "text/plain": [
       "1"
      ]
     },
     "execution_count": 50,
     "metadata": {},
     "output_type": "execute_result"
    }
   ],
   "source": [
    "y_train.isnull().sum()"
   ]
  },
  {
   "cell_type": "code",
   "execution_count": 51,
   "id": "71aed846",
   "metadata": {},
   "outputs": [
    {
     "data": {
      "text/plain": [
       "0"
      ]
     },
     "execution_count": 51,
     "metadata": {},
     "output_type": "execute_result"
    }
   ],
   "source": [
    "y_val.isnull().sum()"
   ]
  },
  {
   "cell_type": "code",
   "execution_count": 52,
   "id": "8f640255",
   "metadata": {},
   "outputs": [
    {
     "data": {
      "text/plain": [
       "0.0"
      ]
     },
     "execution_count": 52,
     "metadata": {},
     "output_type": "execute_result"
    }
   ],
   "source": [
    "X_train[train_cols].isnull().sum().sum()"
   ]
  },
  {
   "cell_type": "code",
   "execution_count": 53,
   "id": "bc0ce97b",
   "metadata": {},
   "outputs": [],
   "source": [
    "y_train = pd.DataFrame(y_train)"
   ]
  },
  {
   "cell_type": "code",
   "execution_count": 54,
   "id": "5b95a9dd",
   "metadata": {},
   "outputs": [
    {
     "data": {
      "text/plain": [
       "1"
      ]
     },
     "execution_count": 54,
     "metadata": {},
     "output_type": "execute_result"
    }
   ],
   "source": [
    "y_train.isnull().sum().sum()"
   ]
  },
  {
   "cell_type": "code",
   "execution_count": 55,
   "id": "0b2b78b6",
   "metadata": {},
   "outputs": [
    {
     "name": "stdout",
     "output_type": "stream",
     "text": [
      "The running time:0.0326\n"
     ]
    }
   ],
   "source": [
    "## Instantiate the simple imputer \n",
    "median_imputer = SimpleImputer(missing_values=np.nan,strategy=\"median\")\n",
    "## Fit and transform the numerical columns in the training dataset\n",
    "import time\n",
    "startScript = time.time()\n",
    "y_train = median_imputer.fit_transform(y_train)\n",
    "endScript = time.time()\n",
    "display = endScript-startScript   # code to calculate the running time \n",
    "print(f\"The running time:{round(display,4)}\")"
   ]
  },
  {
   "cell_type": "markdown",
   "id": "151e9cf7",
   "metadata": {},
   "source": [
    "### Imputation for categorical columns in the training dataset"
   ]
  },
  {
   "cell_type": "code",
   "execution_count": 56,
   "id": "0ab8ecc5",
   "metadata": {},
   "outputs": [],
   "source": [
    "### Imputation for categorical columns in the training dataset\n",
    "## Select categorical columns and perform imputation\n",
    "categorical_train_cols=X_train.select_dtypes(\"object\").columns"
   ]
  },
  {
   "cell_type": "code",
   "execution_count": 57,
   "id": "4c66d2a3",
   "metadata": {},
   "outputs": [
    {
     "data": {
      "text/plain": [
       "Index(['safe_text'], dtype='object')"
      ]
     },
     "execution_count": 57,
     "metadata": {},
     "output_type": "execute_result"
    }
   ],
   "source": [
    "categorical_train_cols"
   ]
  },
  {
   "cell_type": "markdown",
   "id": "110ccf69",
   "metadata": {},
   "source": [
    "### Perfom imputation of missing values in the validation set for numerical columns"
   ]
  },
  {
   "cell_type": "code",
   "execution_count": null,
   "id": "67883310",
   "metadata": {},
   "outputs": [],
   "source": [
    "## Instantiate the simple imputer \n",
    "median_imputer = SimpleImputer(missing_values=np.nan,strategy=\"median\")\n",
    "## Fit and transform the numerical columns in the training dataset\n",
    "import time\n",
    "startScript = time.time()\n",
    "X_val[train_cols] = median_imputer.fit_transform(X_val[train_cols])\n",
    "endScript = time.time()\n",
    "display = endScript-startScript   # code to calculate the running time \n",
    "print(f\"The running time:{round(display,4)}\")"
   ]
  },
  {
   "cell_type": "code",
   "execution_count": 58,
   "id": "62d59d60",
   "metadata": {},
   "outputs": [
    {
     "data": {
      "text/plain": [
       "0.0"
      ]
     },
     "execution_count": 58,
     "metadata": {},
     "output_type": "execute_result"
    }
   ],
   "source": [
    "X_val[train_cols].isnull().sum().sum()"
   ]
  },
  {
   "cell_type": "code",
   "execution_count": 59,
   "id": "d599e09b",
   "metadata": {},
   "outputs": [],
   "source": [
    "y_val = pd.DataFrame(y_val)"
   ]
  },
  {
   "cell_type": "code",
   "execution_count": 60,
   "id": "e2301fb0",
   "metadata": {},
   "outputs": [
    {
     "name": "stdout",
     "output_type": "stream",
     "text": [
      "The running time:0.008\n"
     ]
    }
   ],
   "source": [
    "## Instantiate the simple imputer \n",
    "median_imputer = SimpleImputer(missing_values=np.nan,strategy=\"median\")\n",
    "## Fit and transform the numerical columns in the training dataset\n",
    "import time\n",
    "startScript = time.time()\n",
    "y_val = median_imputer.fit_transform(y_val)\n",
    "endScript = time.time()\n",
    "display = endScript-startScript   # code to calculate the running time \n",
    "print(f\"The running time:{round(display,4)}\")"
   ]
  },
  {
   "cell_type": "markdown",
   "id": "22c5b50e",
   "metadata": {},
   "source": [
    "### Perfom imputation of missing values in the validation set for categorical columns"
   ]
  },
  {
   "cell_type": "code",
   "execution_count": null,
   "id": "5b2a665a",
   "metadata": {},
   "outputs": [],
   "source": [
    "## Instantiate the simple imputer \n",
    "mode_imputer = SimpleImputer(missing_values=np.nan,strategy='most_frequent')\n",
    "## Fit and transform the numerical columns in the training dataset\n",
    "import time\n",
    "startScript = time.time()\n",
    "X_val[categorical_train_cols] = mode_imputer.fit_transform(X_val[categorical_train_cols])\n",
    "endScript = time.time()\n",
    "display = endScript-startScript   # code to calculate the running time \n",
    "print(f\"The running time:{round(display,4)}\")"
   ]
  },
  {
   "cell_type": "code",
   "execution_count": null,
   "id": "fd65a65c",
   "metadata": {},
   "outputs": [],
   "source": [
    "X_val[categorical_train_cols].isnull().sum().sum()"
   ]
  },
  {
   "cell_type": "code",
   "execution_count": 61,
   "id": "a4160382",
   "metadata": {},
   "outputs": [
    {
     "data": {
      "text/html": [
       "<div>\n",
       "<style scoped>\n",
       "    .dataframe tbody tr th:only-of-type {\n",
       "        vertical-align: middle;\n",
       "    }\n",
       "\n",
       "    .dataframe tbody tr th {\n",
       "        vertical-align: top;\n",
       "    }\n",
       "\n",
       "    .dataframe thead th {\n",
       "        text-align: right;\n",
       "    }\n",
       "</style>\n",
       "<table border=\"1\" class=\"dataframe\">\n",
       "  <thead>\n",
       "    <tr style=\"text-align: right;\">\n",
       "      <th></th>\n",
       "      <th>safe_text</th>\n",
       "    </tr>\n",
       "  </thead>\n",
       "  <tbody>\n",
       "    <tr>\n",
       "      <th>0</th>\n",
       "      <td>&lt;user&gt; &lt;user&gt; ... &amp;amp; 4 a vaccine given 2 he...</td>\n",
       "    </tr>\n",
       "    <tr>\n",
       "      <th>1</th>\n",
       "      <td>Students starting school without whooping coug...</td>\n",
       "    </tr>\n",
       "    <tr>\n",
       "      <th>2</th>\n",
       "      <td>I'm kinda over every ep of &lt;user&gt; being \"rippe...</td>\n",
       "    </tr>\n",
       "    <tr>\n",
       "      <th>3</th>\n",
       "      <td>How many innocent children die for lack of vac...</td>\n",
       "    </tr>\n",
       "    <tr>\n",
       "      <th>4</th>\n",
       "      <td>CDC eyeing bird flu vaccine for humans, though...</td>\n",
       "    </tr>\n",
       "  </tbody>\n",
       "</table>\n",
       "</div>"
      ],
      "text/plain": [
       "                                           safe_text\n",
       "0  <user> <user> ... &amp; 4 a vaccine given 2 he...\n",
       "1  Students starting school without whooping coug...\n",
       "2  I'm kinda over every ep of <user> being \"rippe...\n",
       "3  How many innocent children die for lack of vac...\n",
       "4  CDC eyeing bird flu vaccine for humans, though..."
      ]
     },
     "execution_count": 61,
     "metadata": {},
     "output_type": "execute_result"
    }
   ],
   "source": [
    "data_test.head()"
   ]
  },
  {
   "cell_type": "code",
   "execution_count": 62,
   "id": "73b31a38",
   "metadata": {},
   "outputs": [
    {
     "data": {
      "text/html": [
       "<div>\n",
       "<style scoped>\n",
       "    .dataframe tbody tr th:only-of-type {\n",
       "        vertical-align: middle;\n",
       "    }\n",
       "\n",
       "    .dataframe tbody tr th {\n",
       "        vertical-align: top;\n",
       "    }\n",
       "\n",
       "    .dataframe thead th {\n",
       "        text-align: right;\n",
       "    }\n",
       "</style>\n",
       "<table border=\"1\" class=\"dataframe\">\n",
       "  <thead>\n",
       "    <tr style=\"text-align: right;\">\n",
       "      <th></th>\n",
       "      <th>safe_text</th>\n",
       "    </tr>\n",
       "  </thead>\n",
       "  <tbody>\n",
       "    <tr>\n",
       "      <th>2603</th>\n",
       "      <td>&lt;user&gt; sarcasm? If not, you are forgetting it ...</td>\n",
       "    </tr>\n",
       "    <tr>\n",
       "      <th>7738</th>\n",
       "      <td>OH: \"My kids had vaccines and THEY'RE not reta...</td>\n",
       "    </tr>\n",
       "    <tr>\n",
       "      <th>1579</th>\n",
       "      <td>DeSoto schools remind families to update stude...</td>\n",
       "    </tr>\n",
       "    <tr>\n",
       "      <th>5058</th>\n",
       "      <td>Reaction to the immunization. (@ Dean Health -...</td>\n",
       "    </tr>\n",
       "    <tr>\n",
       "      <th>5753</th>\n",
       "      <td>So the CDC says the flu vaccine this yr not so...</td>\n",
       "    </tr>\n",
       "  </tbody>\n",
       "</table>\n",
       "</div>"
      ],
      "text/plain": [
       "                                              safe_text\n",
       "2603  <user> sarcasm? If not, you are forgetting it ...\n",
       "7738  OH: \"My kids had vaccines and THEY'RE not reta...\n",
       "1579  DeSoto schools remind families to update stude...\n",
       "5058  Reaction to the immunization. (@ Dean Health -...\n",
       "5753  So the CDC says the flu vaccine this yr not so..."
      ]
     },
     "execution_count": 62,
     "metadata": {},
     "output_type": "execute_result"
    }
   ],
   "source": [
    "X_train.head()"
   ]
  },
  {
   "cell_type": "code",
   "execution_count": 63,
   "id": "d25dd15e",
   "metadata": {},
   "outputs": [],
   "source": [
    "X_train= X_train.sort_index()"
   ]
  },
  {
   "cell_type": "code",
   "execution_count": 64,
   "id": "8c36d918",
   "metadata": {},
   "outputs": [
    {
     "data": {
      "text/html": [
       "<div>\n",
       "<style scoped>\n",
       "    .dataframe tbody tr th:only-of-type {\n",
       "        vertical-align: middle;\n",
       "    }\n",
       "\n",
       "    .dataframe tbody tr th {\n",
       "        vertical-align: top;\n",
       "    }\n",
       "\n",
       "    .dataframe thead th {\n",
       "        text-align: right;\n",
       "    }\n",
       "</style>\n",
       "<table border=\"1\" class=\"dataframe\">\n",
       "  <thead>\n",
       "    <tr style=\"text-align: right;\">\n",
       "      <th></th>\n",
       "      <th>safe_text</th>\n",
       "    </tr>\n",
       "  </thead>\n",
       "  <tbody>\n",
       "    <tr>\n",
       "      <th>1</th>\n",
       "      <td>I'm 100% thinking of devoting my career to pro...</td>\n",
       "    </tr>\n",
       "    <tr>\n",
       "      <th>2</th>\n",
       "      <td>#whatcausesautism VACCINES, DO NOT VACCINATE Y...</td>\n",
       "    </tr>\n",
       "    <tr>\n",
       "      <th>4</th>\n",
       "      <td>Thanks to &lt;user&gt; Catch me performing at La Nui...</td>\n",
       "    </tr>\n",
       "    <tr>\n",
       "      <th>5</th>\n",
       "      <td>&lt;user&gt; a nearly 67 year old study when mental ...</td>\n",
       "    </tr>\n",
       "    <tr>\n",
       "      <th>6</th>\n",
       "      <td>Study of more than 95,000 kids finds no link b...</td>\n",
       "    </tr>\n",
       "  </tbody>\n",
       "</table>\n",
       "</div>"
      ],
      "text/plain": [
       "                                           safe_text\n",
       "1  I'm 100% thinking of devoting my career to pro...\n",
       "2  #whatcausesautism VACCINES, DO NOT VACCINATE Y...\n",
       "4  Thanks to <user> Catch me performing at La Nui...\n",
       "5  <user> a nearly 67 year old study when mental ...\n",
       "6  Study of more than 95,000 kids finds no link b..."
      ]
     },
     "execution_count": 64,
     "metadata": {},
     "output_type": "execute_result"
    }
   ],
   "source": [
    "X_train.head()"
   ]
  },
  {
   "cell_type": "code",
   "execution_count": 65,
   "id": "6f40fe2b",
   "metadata": {},
   "outputs": [],
   "source": [
    "# Code to sort the index of the dataset\n",
    "X_val =X_val.sort_index()"
   ]
  },
  {
   "cell_type": "code",
   "execution_count": 66,
   "id": "7259d8cf",
   "metadata": {},
   "outputs": [
    {
     "data": {
      "text/html": [
       "<div>\n",
       "<style scoped>\n",
       "    .dataframe tbody tr th:only-of-type {\n",
       "        vertical-align: middle;\n",
       "    }\n",
       "\n",
       "    .dataframe tbody tr th {\n",
       "        vertical-align: top;\n",
       "    }\n",
       "\n",
       "    .dataframe thead th {\n",
       "        text-align: right;\n",
       "    }\n",
       "</style>\n",
       "<table border=\"1\" class=\"dataframe\">\n",
       "  <thead>\n",
       "    <tr style=\"text-align: right;\">\n",
       "      <th></th>\n",
       "      <th>safe_text</th>\n",
       "    </tr>\n",
       "  </thead>\n",
       "  <tbody>\n",
       "    <tr>\n",
       "      <th>0</th>\n",
       "      <td>Me &amp;amp; The Big Homie meanboy3000 #MEANBOY #M...</td>\n",
       "    </tr>\n",
       "    <tr>\n",
       "      <th>3</th>\n",
       "      <td>I mean if they immunize my kid with something ...</td>\n",
       "    </tr>\n",
       "    <tr>\n",
       "      <th>8</th>\n",
       "      <td>Coughing extra on the shuttle and everyone thi...</td>\n",
       "    </tr>\n",
       "    <tr>\n",
       "      <th>10</th>\n",
       "      <td>&lt;user&gt; @ this point I have 2 text, butw/Bon Jo...</td>\n",
       "    </tr>\n",
       "    <tr>\n",
       "      <th>12</th>\n",
       "      <td>Getting my vaccines ! #china #nervous #moving ...</td>\n",
       "    </tr>\n",
       "  </tbody>\n",
       "</table>\n",
       "</div>"
      ],
      "text/plain": [
       "                                            safe_text\n",
       "0   Me &amp; The Big Homie meanboy3000 #MEANBOY #M...\n",
       "3   I mean if they immunize my kid with something ...\n",
       "8   Coughing extra on the shuttle and everyone thi...\n",
       "10  <user> @ this point I have 2 text, butw/Bon Jo...\n",
       "12  Getting my vaccines ! #china #nervous #moving ..."
      ]
     },
     "execution_count": 66,
     "metadata": {},
     "output_type": "execute_result"
    }
   ],
   "source": [
    "X_val.head()"
   ]
  },
  {
   "cell_type": "code",
   "execution_count": 67,
   "id": "5b1843be",
   "metadata": {},
   "outputs": [
    {
     "data": {
      "text/plain": [
       "((7000, 1), (3001, 1))"
      ]
     },
     "execution_count": 67,
     "metadata": {},
     "output_type": "execute_result"
    }
   ],
   "source": [
    "X_train.shape , X_val.shape"
   ]
  },
  {
   "cell_type": "code",
   "execution_count": 68,
   "id": "ff4a8029",
   "metadata": {},
   "outputs": [
    {
     "data": {
      "text/plain": [
       "(5177, 1)"
      ]
     },
     "execution_count": 68,
     "metadata": {},
     "output_type": "execute_result"
    }
   ],
   "source": [
    "data_test.shape"
   ]
  },
  {
   "cell_type": "code",
   "execution_count": 95,
   "id": "f8b1fc29",
   "metadata": {},
   "outputs": [],
   "source": [
    "# Lets make a copy of the testing dataset\n",
    "X_test = data_test.copy()"
   ]
  },
  {
   "cell_type": "code",
   "execution_count": 98,
   "id": "7c5763c6",
   "metadata": {},
   "outputs": [],
   "source": [
    "# Code to select the object columns in the testing set\n",
    "categorical_train_cols1 = X_test.select_dtypes(\"object\").columns"
   ]
  },
  {
   "cell_type": "code",
   "execution_count": 99,
   "id": "54f7c0b0",
   "metadata": {},
   "outputs": [
    {
     "name": "stdout",
     "output_type": "stream",
     "text": [
      "The running time:0.008\n"
     ]
    }
   ],
   "source": [
    "## Instantiate the simple imputer \n",
    "mode_imputer = SimpleImputer(missing_values=np.nan,strategy='most_frequent')\n",
    "## Fit and transform the numerical columns in the training dataset\n",
    "import time\n",
    "startScript = time.time()\n",
    "X_test[categorical_train_cols1] = mode_imputer.fit_transform(X_test[categorical_train_cols1])\n",
    "endScript = time.time()\n",
    "display = endScript-startScript   # code to calculate the running time \n",
    "print(f\"The running time:{round(display,4)}\")"
   ]
  },
  {
   "cell_type": "code",
   "execution_count": 100,
   "id": "88c122ea",
   "metadata": {},
   "outputs": [
    {
     "data": {
      "text/plain": [
       "safe_text    0\n",
       "dtype: int64"
      ]
     },
     "execution_count": 100,
     "metadata": {},
     "output_type": "execute_result"
    }
   ],
   "source": [
    "X_test.isnull().sum()"
   ]
  },
  {
   "cell_type": "markdown",
   "id": "9e8480ef",
   "metadata": {},
   "source": [
    "### Cleaning the testing dataset"
   ]
  },
  {
   "cell_type": "code",
   "execution_count": 92,
   "id": "05e86049",
   "metadata": {},
   "outputs": [],
   "source": [
    "X_test =X_test.sort_index()"
   ]
  },
  {
   "cell_type": "markdown",
   "id": "5b92fd91",
   "metadata": {},
   "source": [
    "### Drop unneccessary categorical columns"
   ]
  },
  {
   "cell_type": "code",
   "execution_count": 118,
   "id": "ca13024e",
   "metadata": {},
   "outputs": [],
   "source": [
    "X_train_copy = X_train.copy()\n",
    "## Select categorical columns in the train dataset\n",
    "categorical_columns_train = X_train_copy.select_dtypes(\"object\").columns "
   ]
  },
  {
   "cell_type": "code",
   "execution_count": 119,
   "id": "2a17a764",
   "metadata": {},
   "outputs": [],
   "source": [
    "# first create dummy variables for categorical data by dropping one of the columns in the training data\n",
    "for variable in categorical_columns_train:\n",
    "    \n",
    "       X_train_copy[variable] = pd.factorize(X_train_copy[variable])[0] "
   ]
  },
  {
   "cell_type": "code",
   "execution_count": 120,
   "id": "479a0216",
   "metadata": {},
   "outputs": [
    {
     "data": {
      "text/html": [
       "<div>\n",
       "<style scoped>\n",
       "    .dataframe tbody tr th:only-of-type {\n",
       "        vertical-align: middle;\n",
       "    }\n",
       "\n",
       "    .dataframe tbody tr th {\n",
       "        vertical-align: top;\n",
       "    }\n",
       "\n",
       "    .dataframe thead th {\n",
       "        text-align: right;\n",
       "    }\n",
       "</style>\n",
       "<table border=\"1\" class=\"dataframe\">\n",
       "  <thead>\n",
       "    <tr style=\"text-align: right;\">\n",
       "      <th></th>\n",
       "      <th>safe_text</th>\n",
       "    </tr>\n",
       "  </thead>\n",
       "  <tbody>\n",
       "    <tr>\n",
       "      <th>1</th>\n",
       "      <td>0</td>\n",
       "    </tr>\n",
       "    <tr>\n",
       "      <th>2</th>\n",
       "      <td>1</td>\n",
       "    </tr>\n",
       "    <tr>\n",
       "      <th>4</th>\n",
       "      <td>2</td>\n",
       "    </tr>\n",
       "    <tr>\n",
       "      <th>5</th>\n",
       "      <td>3</td>\n",
       "    </tr>\n",
       "    <tr>\n",
       "      <th>6</th>\n",
       "      <td>4</td>\n",
       "    </tr>\n",
       "  </tbody>\n",
       "</table>\n",
       "</div>"
      ],
      "text/plain": [
       "   safe_text\n",
       "1          0\n",
       "2          1\n",
       "4          2\n",
       "5          3\n",
       "6          4"
      ]
     },
     "execution_count": 120,
     "metadata": {},
     "output_type": "execute_result"
    }
   ],
   "source": [
    "X_train_copy[categorical_columns_train].head()"
   ]
  },
  {
   "cell_type": "code",
   "execution_count": 121,
   "id": "5dbdfc3b",
   "metadata": {},
   "outputs": [],
   "source": [
    "categorical_data =  X_train_copy[categorical_columns_train]"
   ]
  },
  {
   "cell_type": "code",
   "execution_count": 122,
   "id": "c6ccb51a",
   "metadata": {},
   "outputs": [],
   "source": [
    "X_cat_data = categorical_data"
   ]
  },
  {
   "cell_type": "code",
   "execution_count": 123,
   "id": "6ed693a1",
   "metadata": {},
   "outputs": [],
   "source": [
    "### Make copies of the dataset\n",
    "X_train1 = X_train.copy()\n",
    "X_val1 = X_val.copy()\n",
    "X_test1 =X_test.copy()"
   ]
  },
  {
   "cell_type": "code",
   "execution_count": 124,
   "id": "0bdcaeda",
   "metadata": {},
   "outputs": [],
   "source": [
    "# Select categorical columns in the training set\n",
    "categorical_columns_train1 = X_train1.select_dtypes(\"object\").columns "
   ]
  },
  {
   "cell_type": "code",
   "execution_count": 125,
   "id": "1f260b22",
   "metadata": {},
   "outputs": [],
   "source": [
    "# first create dummy variables for categorical data by dropping one of the columns in the training data\n",
    "for variable in categorical_columns_train1:\n",
    "    \n",
    "        X_train1[variable] = pd.factorize(X_train1[variable])[0] \n",
    "        X_val1[variable] = pd.factorize(X_val1[variable])[0] \n",
    "        X_test1[variable] = pd.factorize(X_test1[variable])[0] "
   ]
  },
  {
   "cell_type": "markdown",
   "id": "9a1a0eb7",
   "metadata": {},
   "source": [
    "## Model Training"
   ]
  },
  {
   "cell_type": "markdown",
   "id": "b05ad63b",
   "metadata": {},
   "source": [
    "## Performance measures description:"
   ]
  },
  {
   "cell_type": "code",
   "execution_count": 126,
   "id": "03e9c555",
   "metadata": {},
   "outputs": [],
   "source": [
    "# defining a function to compute different metrics to check performance of a classification model built using sklearn\n",
    "def model_performance_regression_sklearn(model, predictors, target):\n",
    "\n",
    "        # predicting using the independent variables\n",
    "        pred = model.predict(predictors)\n",
    "        rmse= mean_squared_error(target,pred,squared=False)  # to compute the room mean square error using the target and predicted values\n",
    "        mse= mean_squared_error(target,pred,squared=True)   # compute the mean squared error  \n",
    "        mae = mean_absolute_error(target, pred)  # to compute mean absolute error using target and predicted values\n",
    "        r2 =r2_score(target,pred)\n",
    "        \n",
    "        # creating a dataframe of metrics\n",
    "        df_perf = pd.DataFrame( {\"Root Mean Squared error\":rmse,\"Mean Squared error\":mse,\n",
    "                                 \"Mean Absolute error\": mae,\"R2 Score\":r2},index=[0],)\n",
    "\n",
    "        return df_perf"
   ]
  },
  {
   "cell_type": "code",
   "execution_count": 127,
   "id": "718d4273",
   "metadata": {},
   "outputs": [],
   "source": [
    "# To help with model building\n",
    "from sklearn.linear_model import LinearRegression\n",
    "from sklearn.tree import DecisionTreeRegressor\n",
    "from sklearn.ensemble import (AdaBoostRegressor,GradientBoostingRegressor, RandomForestRegressor,BaggingRegressor,)\n",
    "from sklearn.neighbors import KNeighborsRegressor\n",
    "from sklearn.svm import SVC, SVR\n",
    "from xgboost import XGBRegressor"
   ]
  },
  {
   "cell_type": "code",
   "execution_count": 128,
   "id": "f39dcf09",
   "metadata": {},
   "outputs": [],
   "source": [
    "# Type of scoring used to compare parameter combinations\n",
    "scorer = metrics.make_scorer(metrics.r2_score)"
   ]
  },
  {
   "cell_type": "code",
   "execution_count": 129,
   "id": "be7b5d77",
   "metadata": {},
   "outputs": [],
   "source": [
    "from sklearn.model_selection import  cross_val_score"
   ]
  },
  {
   "cell_type": "code",
   "execution_count": 130,
   "id": "b5a761fb",
   "metadata": {},
   "outputs": [
    {
     "name": "stdout",
     "output_type": "stream",
     "text": [
      "Linear Regression R2-Score: -0.0016\n",
      "K-Nearest Neighbors R2-Score: -0.092\n",
      "Random Forest R2-Score: -0.3323\n",
      "Bagging R2-Score: -0.3292\n",
      "Gradient Boosting R2-Score: -0.0125\n",
      "Ada boost R2-Score: -0.0031\n",
      "Support Vector Machine R2-Score: -0.102\n",
      "XGBoost R2-Score: -0.105\n"
     ]
    }
   ],
   "source": [
    "models = {\n",
    "    \"Linear Regression\": LinearRegression(),\n",
    "     \"K-Nearest Neighbors\": KNeighborsRegressor(),\n",
    "    \"Random Forest\": RandomForestRegressor(),\n",
    "    \"Bagging\": BaggingRegressor(),\n",
    "    \"Gradient Boosting\": GradientBoostingRegressor(),\n",
    "    \"Ada boost\": AdaBoostRegressor(),\n",
    "    \"Support Vector Machine\": SVR(),\n",
    "    \"XGBoost\":  XGBRegressor(),\n",
    "}\n",
    "\n",
    "for name, model in models.items():\n",
    "    scores = cross_val_score(estimator=model, X=X_train1,y=y_train,scoring=scorer,cv=3)\n",
    "    print(f\"{name} R2-Score: {round(np.mean(scores),4)}\")"
   ]
  },
  {
   "cell_type": "code",
   "execution_count": 131,
   "id": "5a03a9f0",
   "metadata": {},
   "outputs": [],
   "source": [
    "## Check the performamce for each model in the training data\n",
    "linear_train_perf = model_performance_regression_sklearn(models[\"Linear Regression\"].fit(X_train1,\n",
    "                        y_train),X_train1,y_train)\n",
    "kneighbor_train_perf = model_performance_regression_sklearn(models[\"K-Nearest Neighbors\"].fit(X_train1,\n",
    "                        y_train),X_train1,y_train)\n",
    "randomf_train_perf = model_performance_regression_sklearn(models[\"Random Forest\"].fit(X_train1,\n",
    "                        y_train),X_train1,y_train)\n",
    "bagging_train_perf = model_performance_regression_sklearn(models[\"Bagging\"].fit(X_train1,\n",
    "                        y_train),X_train1,y_train)\n",
    "gradient_train_perf = model_performance_regression_sklearn(models[\"Gradient Boosting\"].fit(X_train1,\n",
    "                        y_train),X_train1,y_train)\n",
    "adaboost_train_perf = model_performance_regression_sklearn(models[\"Ada boost\"].fit(X_train1,\n",
    "                        y_train),X_train1,y_train)\n",
    "svm_train_perf = model_performance_regression_sklearn(models[\"Support Vector Machine\"].fit(X_train1,\n",
    "                        y_train),X_train1,y_train)\n",
    "xgb_train_perf = model_performance_regression_sklearn(models[\"XGBoost\"].fit(X_train1,\n",
    "                        y_train),X_train1,y_train)"
   ]
  },
  {
   "cell_type": "code",
   "execution_count": 132,
   "id": "74be9b08",
   "metadata": {},
   "outputs": [],
   "source": [
    "### Display the peformance measures for each model\n",
    "models_train_comp_df = pd.concat([ linear_train_perf.T, kneighbor_train_perf.T,randomf_train_perf.T, \n",
    "        bagging_train_perf.T, gradient_train_perf.T, adaboost_train_perf.T, svm_train_perf.T,xgb_train_perf.T],axis=1,)\n",
    "models_train_comp_df.columns = [\"Linear \",\"KNeighbor\",\"Random forest\",\"Bagging\",\n",
    "                                \"Gradient boost\",\"Adaboost\",\"SVM\",\"XGBoost\"]"
   ]
  },
  {
   "cell_type": "code",
   "execution_count": 133,
   "id": "7f30bae5",
   "metadata": {},
   "outputs": [],
   "source": [
    "## Check the performamce for each model in the validation data\n",
    "linear_val_perf = model_performance_regression_sklearn(models[\"Linear Regression\"].fit(X_val1,\n",
    "                        y_val),X_val1,y_val)\n",
    "kneighbor_val_perf = model_performance_regression_sklearn(models[\"K-Nearest Neighbors\"].fit(X_val1,\n",
    "                        y_val),X_val1,y_val)\n",
    "\n",
    "randomf_val_perf = model_performance_regression_sklearn(models[\"Random Forest\"].fit(X_val1,\n",
    "                        y_val),X_val1,y_val)\n",
    "bagging_val_perf = model_performance_regression_sklearn(models[\"Bagging\"].fit(X_val1,\n",
    "                        y_val),X_val1,y_val)\n",
    "gradient_val_perf = model_performance_regression_sklearn(models[\"Gradient Boosting\"].fit(X_val1,\n",
    "                        y_val),X_val1,y_val)\n",
    "adaboost_val_perf = model_performance_regression_sklearn(models[\"Ada boost\"].fit(X_val1,\n",
    "                        y_val),X_val1,y_val)\n",
    "svm_val_perf = model_performance_regression_sklearn(models[\"Support Vector Machine\"].fit(X_val1,\n",
    "                        y_val),X_val1,y_val)\n",
    "xgb_val_perf = model_performance_regression_sklearn(models[\"XGBoost\"].fit(X_val1,\n",
    "                        y_val),X_val1,y_val)"
   ]
  },
  {
   "cell_type": "code",
   "execution_count": 134,
   "id": "07bad797",
   "metadata": {},
   "outputs": [],
   "source": [
    "### Display the peformance measures for each model\n",
    "models_validation_comp_df = pd.concat([linear_val_perf.T, kneighbor_val_perf.T,\n",
    "randomf_val_perf.T, bagging_val_perf.T, gradient_val_perf.T, adaboost_val_perf.T, svm_val_perf.T,xgb_val_perf.T],axis=1,)\n",
    "models_validation_comp_df.columns = [\n",
    "    \"Linear \",\"KNeighbor\",\"Random forest\",\"Bagging\",\"Gradient boost\",\"Adaboost\",\"SVM\",\"XGBoost\"]\n"
   ]
  },
  {
   "cell_type": "code",
   "execution_count": 135,
   "id": "4b8a685d",
   "metadata": {
    "scrolled": true
   },
   "outputs": [
    {
     "name": "stdout",
     "output_type": "stream",
     "text": [
      "Training performance measures comparison\n"
     ]
    },
    {
     "data": {
      "text/html": [
       "<div>\n",
       "<style scoped>\n",
       "    .dataframe tbody tr th:only-of-type {\n",
       "        vertical-align: middle;\n",
       "    }\n",
       "\n",
       "    .dataframe tbody tr th {\n",
       "        vertical-align: top;\n",
       "    }\n",
       "\n",
       "    .dataframe thead th {\n",
       "        text-align: right;\n",
       "    }\n",
       "</style>\n",
       "<table border=\"1\" class=\"dataframe\">\n",
       "  <thead>\n",
       "    <tr style=\"text-align: right;\">\n",
       "      <th></th>\n",
       "      <th>Linear</th>\n",
       "      <th>KNeighbor</th>\n",
       "      <th>Random forest</th>\n",
       "      <th>Bagging</th>\n",
       "      <th>Gradient boost</th>\n",
       "      <th>Adaboost</th>\n",
       "      <th>SVM</th>\n",
       "      <th>XGBoost</th>\n",
       "    </tr>\n",
       "  </thead>\n",
       "  <tbody>\n",
       "    <tr>\n",
       "      <th>Root Mean Squared error</th>\n",
       "      <td>0.645</td>\n",
       "      <td>0.578</td>\n",
       "      <td>0.306</td>\n",
       "      <td>0.340</td>\n",
       "      <td>0.630</td>\n",
       "      <td>0.647</td>\n",
       "      <td>0.677</td>\n",
       "      <td>0.545</td>\n",
       "    </tr>\n",
       "    <tr>\n",
       "      <th>Mean Squared error</th>\n",
       "      <td>0.415</td>\n",
       "      <td>0.334</td>\n",
       "      <td>0.093</td>\n",
       "      <td>0.116</td>\n",
       "      <td>0.397</td>\n",
       "      <td>0.419</td>\n",
       "      <td>0.458</td>\n",
       "      <td>0.297</td>\n",
       "    </tr>\n",
       "    <tr>\n",
       "      <th>Mean Absolute error</th>\n",
       "      <td>0.566</td>\n",
       "      <td>0.474</td>\n",
       "      <td>0.241</td>\n",
       "      <td>0.247</td>\n",
       "      <td>0.551</td>\n",
       "      <td>0.552</td>\n",
       "      <td>0.528</td>\n",
       "      <td>0.465</td>\n",
       "    </tr>\n",
       "    <tr>\n",
       "      <th>R2 Score</th>\n",
       "      <td>0.000</td>\n",
       "      <td>0.196</td>\n",
       "      <td>0.775</td>\n",
       "      <td>0.722</td>\n",
       "      <td>0.045</td>\n",
       "      <td>-0.008</td>\n",
       "      <td>-0.102</td>\n",
       "      <td>0.285</td>\n",
       "    </tr>\n",
       "  </tbody>\n",
       "</table>\n",
       "</div>"
      ],
      "text/plain": [
       "                         Linear   KNeighbor  Random forest  Bagging  \\\n",
       "Root Mean Squared error    0.645      0.578          0.306    0.340   \n",
       "Mean Squared error         0.415      0.334          0.093    0.116   \n",
       "Mean Absolute error        0.566      0.474          0.241    0.247   \n",
       "R2 Score                   0.000      0.196          0.775    0.722   \n",
       "\n",
       "                         Gradient boost  Adaboost    SVM  XGBoost  \n",
       "Root Mean Squared error           0.630     0.647  0.677    0.545  \n",
       "Mean Squared error                0.397     0.419  0.458    0.297  \n",
       "Mean Absolute error               0.551     0.552  0.528    0.465  \n",
       "R2 Score                          0.045    -0.008 -0.102    0.285  "
      ]
     },
     "execution_count": 135,
     "metadata": {},
     "output_type": "execute_result"
    }
   ],
   "source": [
    "print(\"Training performance measures comparison\")\n",
    "models_train_comp_df"
   ]
  },
  {
   "cell_type": "code",
   "execution_count": 136,
   "id": "2e58f003",
   "metadata": {},
   "outputs": [
    {
     "name": "stdout",
     "output_type": "stream",
     "text": [
      "Validation performance measures comparison\n"
     ]
    },
    {
     "data": {
      "text/html": [
       "<div>\n",
       "<style scoped>\n",
       "    .dataframe tbody tr th:only-of-type {\n",
       "        vertical-align: middle;\n",
       "    }\n",
       "\n",
       "    .dataframe tbody tr th {\n",
       "        vertical-align: top;\n",
       "    }\n",
       "\n",
       "    .dataframe thead th {\n",
       "        text-align: right;\n",
       "    }\n",
       "</style>\n",
       "<table border=\"1\" class=\"dataframe\">\n",
       "  <thead>\n",
       "    <tr style=\"text-align: right;\">\n",
       "      <th></th>\n",
       "      <th>Linear</th>\n",
       "      <th>KNeighbor</th>\n",
       "      <th>Random forest</th>\n",
       "      <th>Bagging</th>\n",
       "      <th>Gradient boost</th>\n",
       "      <th>Adaboost</th>\n",
       "      <th>SVM</th>\n",
       "      <th>XGBoost</th>\n",
       "    </tr>\n",
       "  </thead>\n",
       "  <tbody>\n",
       "    <tr>\n",
       "      <th>Root Mean Squared error</th>\n",
       "      <td>0.651</td>\n",
       "      <td>0.588</td>\n",
       "      <td>0.309</td>\n",
       "      <td>0.336</td>\n",
       "      <td>0.621</td>\n",
       "      <td>0.654</td>\n",
       "      <td>0.679</td>\n",
       "      <td>0.488</td>\n",
       "    </tr>\n",
       "    <tr>\n",
       "      <th>Mean Squared error</th>\n",
       "      <td>0.424</td>\n",
       "      <td>0.346</td>\n",
       "      <td>0.096</td>\n",
       "      <td>0.113</td>\n",
       "      <td>0.386</td>\n",
       "      <td>0.428</td>\n",
       "      <td>0.461</td>\n",
       "      <td>0.238</td>\n",
       "    </tr>\n",
       "    <tr>\n",
       "      <th>Mean Absolute error</th>\n",
       "      <td>0.566</td>\n",
       "      <td>0.483</td>\n",
       "      <td>0.245</td>\n",
       "      <td>0.245</td>\n",
       "      <td>0.538</td>\n",
       "      <td>0.550</td>\n",
       "      <td>0.529</td>\n",
       "      <td>0.408</td>\n",
       "    </tr>\n",
       "    <tr>\n",
       "      <th>R2 Score</th>\n",
       "      <td>0.002</td>\n",
       "      <td>0.184</td>\n",
       "      <td>0.775</td>\n",
       "      <td>0.733</td>\n",
       "      <td>0.090</td>\n",
       "      <td>-0.008</td>\n",
       "      <td>-0.086</td>\n",
       "      <td>0.440</td>\n",
       "    </tr>\n",
       "  </tbody>\n",
       "</table>\n",
       "</div>"
      ],
      "text/plain": [
       "                         Linear   KNeighbor  Random forest  Bagging  \\\n",
       "Root Mean Squared error    0.651      0.588          0.309    0.336   \n",
       "Mean Squared error         0.424      0.346          0.096    0.113   \n",
       "Mean Absolute error        0.566      0.483          0.245    0.245   \n",
       "R2 Score                   0.002      0.184          0.775    0.733   \n",
       "\n",
       "                         Gradient boost  Adaboost    SVM  XGBoost  \n",
       "Root Mean Squared error           0.621     0.654  0.679    0.488  \n",
       "Mean Squared error                0.386     0.428  0.461    0.238  \n",
       "Mean Absolute error               0.538     0.550  0.529    0.408  \n",
       "R2 Score                          0.090    -0.008 -0.086    0.440  "
      ]
     },
     "execution_count": 136,
     "metadata": {},
     "output_type": "execute_result"
    }
   ],
   "source": [
    "print(\"Validation performance measures comparison\")\n",
    "models_validation_comp_df"
   ]
  },
  {
   "cell_type": "markdown",
   "id": "19ee6103",
   "metadata": {},
   "source": [
    "### XGBoost Regression "
   ]
  },
  {
   "cell_type": "code",
   "execution_count": 137,
   "id": "1fa9ec8a",
   "metadata": {},
   "outputs": [],
   "source": [
    "model = XGBRegressor(base_score=0.5, booster='gbtree', callbacks=None,\n",
    "             colsample_bylevel=1, colsample_bynode=1, colsample_bytree=1,\n",
    "             early_stopping_rounds=None, enable_categorical=False,\n",
    "             eval_metric='rmse', gamma=0.4, gpu_id=-1, grow_policy='depthwise',\n",
    "             importance_type=None, interaction_constraints='',\n",
    "             learning_rate=0.12, max_bin=256,\n",
    "             max_cat_to_onehot=4, max_delta_step=0, max_depth=4, max_leaves=0,\n",
    "             min_child_weight=4, monotone_constraints='()',\n",
    "             n_estimators=60, n_jobs=0, num_parallel_tree=1, predictor='auto',\n",
    "             random_state=123, reg_alpha=0.1, reg_lambda=1,subsample=0.7)\n",
    "xgboost_model = model.fit(X_train1,y_train)"
   ]
  },
  {
   "cell_type": "code",
   "execution_count": 138,
   "id": "6a80de83",
   "metadata": {},
   "outputs": [],
   "source": [
    "## Check the performamce for each model in the training data of the imbalanced data \n",
    "xg_train_perf = model_performance_regression_sklearn(xgboost_model,X_train1,y_train)\n",
    "## Check the performamce for each model in the imbalanced validation data\n",
    "xg_val_perf= model_performance_regression_sklearn(xgboost_model,X_val1,y_val)"
   ]
  },
  {
   "cell_type": "code",
   "execution_count": 139,
   "id": "ef8dbc7d",
   "metadata": {},
   "outputs": [],
   "source": [
    "xg_perf = pd.concat([xg_train_perf.T,xg_val_perf.T],axis=1)\n",
    "xg_perf.columns =[\"Training\",\"Validation\"]"
   ]
  },
  {
   "cell_type": "code",
   "execution_count": 140,
   "id": "c589ae48",
   "metadata": {},
   "outputs": [
    {
     "name": "stdout",
     "output_type": "stream",
     "text": [
      "XGBoost Peformance measures on the original data\n"
     ]
    },
    {
     "data": {
      "text/html": [
       "<div>\n",
       "<style scoped>\n",
       "    .dataframe tbody tr th:only-of-type {\n",
       "        vertical-align: middle;\n",
       "    }\n",
       "\n",
       "    .dataframe tbody tr th {\n",
       "        vertical-align: top;\n",
       "    }\n",
       "\n",
       "    .dataframe thead th {\n",
       "        text-align: right;\n",
       "    }\n",
       "</style>\n",
       "<table border=\"1\" class=\"dataframe\">\n",
       "  <thead>\n",
       "    <tr style=\"text-align: right;\">\n",
       "      <th></th>\n",
       "      <th>Training</th>\n",
       "      <th>Validation</th>\n",
       "    </tr>\n",
       "  </thead>\n",
       "  <tbody>\n",
       "    <tr>\n",
       "      <th>Root Mean Squared error</th>\n",
       "      <td>0.628</td>\n",
       "      <td>0.657</td>\n",
       "    </tr>\n",
       "    <tr>\n",
       "      <th>Mean Squared error</th>\n",
       "      <td>0.394</td>\n",
       "      <td>0.432</td>\n",
       "    </tr>\n",
       "    <tr>\n",
       "      <th>Mean Absolute error</th>\n",
       "      <td>0.548</td>\n",
       "      <td>0.569</td>\n",
       "    </tr>\n",
       "    <tr>\n",
       "      <th>R2 Score</th>\n",
       "      <td>0.050</td>\n",
       "      <td>-0.017</td>\n",
       "    </tr>\n",
       "  </tbody>\n",
       "</table>\n",
       "</div>"
      ],
      "text/plain": [
       "                         Training  Validation\n",
       "Root Mean Squared error     0.628       0.657\n",
       "Mean Squared error          0.394       0.432\n",
       "Mean Absolute error         0.548       0.569\n",
       "R2 Score                    0.050      -0.017"
      ]
     },
     "execution_count": 140,
     "metadata": {},
     "output_type": "execute_result"
    }
   ],
   "source": [
    "print(\"XGBoost Peformance measures on the original data\")\n",
    "xg_perf"
   ]
  },
  {
   "cell_type": "markdown",
   "id": "16058d28",
   "metadata": {},
   "source": [
    "##  Feature importances"
   ]
  },
  {
   "cell_type": "code",
   "execution_count": 141,
   "id": "85f6e8a3",
   "metadata": {},
   "outputs": [
    {
     "data": {
      "image/png": "[encoded data removed]",
      "text/plain": [
       "<Figure size 1200x1200 with 1 Axes>"
      ]
     },
     "metadata": {},
     "output_type": "display_data"
    }
   ],
   "source": [
    " ## Code to check the feature importance on the best model\n",
    "feature_names = X_train1.columns\n",
    "importances =xgboost_model.feature_importances_   \n",
    "indices = np.argsort(importances)\n",
    "plt.figure(figsize=(12, 12))\n",
    "plt.title(\"Feature Importances\")\n",
    "plt.barh(range(len(indices)), importances[indices], color=\"blue\", align=\"center\")\n",
    "plt.yticks(range(len(indices)), [feature_names[i] for i in indices])\n",
    "plt.xlabel(\"Relative Importance\")\n",
    "plt.show()"
   ]
  },
  {
   "cell_type": "code",
   "execution_count": 142,
   "id": "f034d856",
   "metadata": {},
   "outputs": [
    {
     "data": {
      "text/html": [
       "<div>\n",
       "<style scoped>\n",
       "    .dataframe tbody tr th:only-of-type {\n",
       "        vertical-align: middle;\n",
       "    }\n",
       "\n",
       "    .dataframe tbody tr th {\n",
       "        vertical-align: top;\n",
       "    }\n",
       "\n",
       "    .dataframe thead th {\n",
       "        text-align: right;\n",
       "    }\n",
       "</style>\n",
       "<table border=\"1\" class=\"dataframe\">\n",
       "  <thead>\n",
       "    <tr style=\"text-align: right;\">\n",
       "      <th></th>\n",
       "      <th>tweet_id</th>\n",
       "      <th>safe_text</th>\n",
       "      <th>label</th>\n",
       "    </tr>\n",
       "  </thead>\n",
       "  <tbody>\n",
       "    <tr>\n",
       "      <th>0</th>\n",
       "      <td>00BHHHP1</td>\n",
       "      <td>&lt;user&gt; &lt;user&gt; ... &amp;amp; 4 a vaccine given 2 he...</td>\n",
       "      <td>0.306</td>\n",
       "    </tr>\n",
       "    <tr>\n",
       "      <th>1</th>\n",
       "      <td>00UNMD0E</td>\n",
       "      <td>Students starting school without whooping coug...</td>\n",
       "      <td>0.306</td>\n",
       "    </tr>\n",
       "    <tr>\n",
       "      <th>2</th>\n",
       "      <td>01AXPTJF</td>\n",
       "      <td>I'm kinda over every ep of &lt;user&gt; being \"rippe...</td>\n",
       "      <td>0.306</td>\n",
       "    </tr>\n",
       "    <tr>\n",
       "      <th>3</th>\n",
       "      <td>01HOEQJW</td>\n",
       "      <td>How many innocent children die for lack of vac...</td>\n",
       "      <td>0.306</td>\n",
       "    </tr>\n",
       "    <tr>\n",
       "      <th>4</th>\n",
       "      <td>01JUKMAO</td>\n",
       "      <td>CDC eyeing bird flu vaccine for humans, though...</td>\n",
       "      <td>0.306</td>\n",
       "    </tr>\n",
       "  </tbody>\n",
       "</table>\n",
       "</div>"
      ],
      "text/plain": [
       "   tweet_id                                          safe_text  label\n",
       "0  00BHHHP1  <user> <user> ... &amp; 4 a vaccine given 2 he...  0.306\n",
       "1  00UNMD0E  Students starting school without whooping coug...  0.306\n",
       "2  01AXPTJF  I'm kinda over every ep of <user> being \"rippe...  0.306\n",
       "3  01HOEQJW  How many innocent children die for lack of vac...  0.306\n",
       "4  01JUKMAO  CDC eyeing bird flu vaccine for humans, though...  0.306"
      ]
     },
     "execution_count": 142,
     "metadata": {},
     "output_type": "execute_result"
    }
   ],
   "source": [
    "test_data.head()"
   ]
  },
  {
   "cell_type": "code",
   "execution_count": 143,
   "id": "ddce0853",
   "metadata": {},
   "outputs": [
    {
     "data": {
      "text/plain": [
       "(5177, 1)"
      ]
     },
     "execution_count": 143,
     "metadata": {},
     "output_type": "execute_result"
    }
   ],
   "source": [
    "X_test1.shape"
   ]
  },
  {
   "cell_type": "code",
   "execution_count": 145,
   "id": "5e047d84",
   "metadata": {},
   "outputs": [],
   "source": [
    "# Code   to predict  the target  variable using the best model on the  testing dataset\n",
    "test_data['label'] = xgboost_model.predict(X_test1)"
   ]
  },
  {
   "cell_type": "code",
   "execution_count": null,
   "id": "54903ff7",
   "metadata": {
    "scrolled": false
   },
   "outputs": [],
   "source": [
    "test_data.head()"
   ]
  },
  {
   "cell_type": "code",
   "execution_count": 146,
   "id": "8278ddda",
   "metadata": {},
   "outputs": [],
   "source": [
    "data_df =pd.DataFrame({\"tweet_id\":test_data[\"tweet_id\"],'label':test_data['label']})"
   ]
  },
  {
   "cell_type": "code",
   "execution_count": 147,
   "id": "4791b014",
   "metadata": {},
   "outputs": [
    {
     "data": {
      "text/html": [
       "<div>\n",
       "<style scoped>\n",
       "    .dataframe tbody tr th:only-of-type {\n",
       "        vertical-align: middle;\n",
       "    }\n",
       "\n",
       "    .dataframe tbody tr th {\n",
       "        vertical-align: top;\n",
       "    }\n",
       "\n",
       "    .dataframe thead th {\n",
       "        text-align: right;\n",
       "    }\n",
       "</style>\n",
       "<table border=\"1\" class=\"dataframe\">\n",
       "  <thead>\n",
       "    <tr style=\"text-align: right;\">\n",
       "      <th></th>\n",
       "      <th>tweet_id</th>\n",
       "      <th>label</th>\n",
       "    </tr>\n",
       "  </thead>\n",
       "  <tbody>\n",
       "    <tr>\n",
       "      <th>0</th>\n",
       "      <td>00BHHHP1</td>\n",
       "      <td>0.310</td>\n",
       "    </tr>\n",
       "    <tr>\n",
       "      <th>1</th>\n",
       "      <td>00UNMD0E</td>\n",
       "      <td>0.310</td>\n",
       "    </tr>\n",
       "    <tr>\n",
       "      <th>2</th>\n",
       "      <td>01AXPTJF</td>\n",
       "      <td>0.310</td>\n",
       "    </tr>\n",
       "    <tr>\n",
       "      <th>3</th>\n",
       "      <td>01HOEQJW</td>\n",
       "      <td>0.310</td>\n",
       "    </tr>\n",
       "    <tr>\n",
       "      <th>4</th>\n",
       "      <td>01JUKMAO</td>\n",
       "      <td>0.472</td>\n",
       "    </tr>\n",
       "  </tbody>\n",
       "</table>\n",
       "</div>"
      ],
      "text/plain": [
       "   tweet_id  label\n",
       "0  00BHHHP1  0.310\n",
       "1  00UNMD0E  0.310\n",
       "2  01AXPTJF  0.310\n",
       "3  01HOEQJW  0.310\n",
       "4  01JUKMAO  0.472"
      ]
     },
     "execution_count": 147,
     "metadata": {},
     "output_type": "execute_result"
    }
   ],
   "source": [
    "data_df.head()"
   ]
  },
  {
   "cell_type": "code",
   "execution_count": 148,
   "id": "a6bc96b2",
   "metadata": {},
   "outputs": [
    {
     "data": {
      "text/html": [
       "<div>\n",
       "<style scoped>\n",
       "    .dataframe tbody tr th:only-of-type {\n",
       "        vertical-align: middle;\n",
       "    }\n",
       "\n",
       "    .dataframe tbody tr th {\n",
       "        vertical-align: top;\n",
       "    }\n",
       "\n",
       "    .dataframe thead th {\n",
       "        text-align: right;\n",
       "    }\n",
       "</style>\n",
       "<table border=\"1\" class=\"dataframe\">\n",
       "  <thead>\n",
       "    <tr style=\"text-align: right;\">\n",
       "      <th></th>\n",
       "      <th>tweet_id</th>\n",
       "      <th>label</th>\n",
       "    </tr>\n",
       "  </thead>\n",
       "  <tbody>\n",
       "    <tr>\n",
       "      <th>5172</th>\n",
       "      <td>ZXVVNC5O</td>\n",
       "      <td>0.301</td>\n",
       "    </tr>\n",
       "    <tr>\n",
       "      <th>5173</th>\n",
       "      <td>ZYIANVI8</td>\n",
       "      <td>0.301</td>\n",
       "    </tr>\n",
       "    <tr>\n",
       "      <th>5174</th>\n",
       "      <td>ZYITEHAH</td>\n",
       "      <td>0.301</td>\n",
       "    </tr>\n",
       "    <tr>\n",
       "      <th>5175</th>\n",
       "      <td>ZZ3BMBTG</td>\n",
       "      <td>0.301</td>\n",
       "    </tr>\n",
       "    <tr>\n",
       "      <th>5176</th>\n",
       "      <td>ZZIYCVNH</td>\n",
       "      <td>0.301</td>\n",
       "    </tr>\n",
       "  </tbody>\n",
       "</table>\n",
       "</div>"
      ],
      "text/plain": [
       "      tweet_id  label\n",
       "5172  ZXVVNC5O  0.301\n",
       "5173  ZYIANVI8  0.301\n",
       "5174  ZYITEHAH  0.301\n",
       "5175  ZZ3BMBTG  0.301\n",
       "5176  ZZIYCVNH  0.301"
      ]
     },
     "execution_count": 148,
     "metadata": {},
     "output_type": "execute_result"
    }
   ],
   "source": [
    "data_df.tail()"
   ]
  },
  {
   "cell_type": "code",
   "execution_count": 149,
   "id": "615e3cad",
   "metadata": {},
   "outputs": [],
   "source": [
    " # code to save the predicted dataset as a csv file\n",
    "data_df.to_csv(\"Submission_file(vaccine1).csv\",index=False)   # code to save the predicted values as a csv file"
   ]
  },
  {
   "cell_type": "markdown",
   "id": "2f6cc12b",
   "metadata": {},
   "source": [
    "##### Benchmark"
   ]
  },
  {
   "cell_type": "markdown",
   "id": "c6bf2d4d",
   "metadata": {},
   "source": [
    "### Lightgbm Regression"
   ]
  },
  {
   "cell_type": "code",
   "execution_count": 150,
   "id": "729d7abc",
   "metadata": {},
   "outputs": [
    {
     "data": {
      "text/html": [
       "<style type='text/css'>\n",
       ".datatable table.frame { margin-bottom: 0; }\n",
       ".datatable table.frame thead { border-bottom: none; }\n",
       ".datatable table.frame tr.coltypes td {  color: #FFFFFF;  line-height: 6px;  padding: 0 0.5em;}\n",
       ".datatable .bool    { background: #DDDD99; }\n",
       ".datatable .object  { background: #565656; }\n",
       ".datatable .int     { background: #5D9E5D; }\n",
       ".datatable .float   { background: #4040CC; }\n",
       ".datatable .str     { background: #CC4040; }\n",
       ".datatable .time    { background: #40CC40; }\n",
       ".datatable .row_index {  background: var(--jp-border-color3);  border-right: 1px solid var(--jp-border-color0);  color: var(--jp-ui-font-color3);  font-size: 9px;}\n",
       ".datatable .frame tbody td { text-align: left; }\n",
       ".datatable .frame tr.coltypes .row_index {  background: var(--jp-border-color0);}\n",
       ".datatable th:nth-child(2) { padding-left: 12px; }\n",
       ".datatable .hellipsis {  color: var(--jp-cell-editor-border-color);}\n",
       ".datatable .vellipsis {  background: var(--jp-layout-color0);  color: var(--jp-cell-editor-border-color);}\n",
       ".datatable .na {  color: var(--jp-cell-editor-border-color);  font-size: 80%;}\n",
       ".datatable .sp {  opacity: 0.25;}\n",
       ".datatable .footer { font-size: 9px; }\n",
       ".datatable .frame_dimensions {  background: var(--jp-border-color3);  border-top: 1px solid var(--jp-border-color0);  color: var(--jp-ui-font-color3);  display: inline-block;  opacity: 0.6;  padding: 1px 10px 1px 5px;}\n",
       ".datatable .frame thead tr.colnames {  background-image: url('data:image/png;base64,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');  background-repeat: repeat-x;  background-size: 14px;  height: 28px;}\n",
       "</style>\n"
      ],
      "text/plain": [
       "<IPython.core.display.HTML object>"
      ]
     },
     "metadata": {},
     "output_type": "display_data"
    }
   ],
   "source": [
    "import lightgbm as lgb"
   ]
  },
  {
   "cell_type": "code",
   "execution_count": 151,
   "id": "0a4fe3e5",
   "metadata": {},
   "outputs": [],
   "source": [
    "dtrain = lgb.Dataset(X_train1 ,label=y_train)\n",
    "dvalid = lgb.Dataset(X_val1,label=y_val)"
   ]
  },
  {
   "cell_type": "code",
   "execution_count": 163,
   "id": "58564dea",
   "metadata": {},
   "outputs": [],
   "source": [
    "### Now lets first specify the lightgbm parameters a dictionary\n",
    "parameter = { 'objective':'regression' , 'metric':'rmse',\n",
    "             'is_unbalance':'true', 'boosting':'rf','max_depth':7,'min_data_in_leaf':120,\n",
    "             'num_leaves':127, 'feature_fraction': 0.5,\n",
    "             'bagging_fraction':0.5,'bagging_freq':20,\n",
    "             'learning_rate':0.01 ,'verbose': -1    \n",
    "}"
   ]
  },
  {
   "cell_type": "code",
   "execution_count": 164,
   "id": "3acbee7c",
   "metadata": {},
   "outputs": [
    {
     "name": "stdout",
     "output_type": "stream",
     "text": [
      "Training until validation scores don't improve for 100 rounds\n",
      "Early stopping, best iteration is:\n",
      "[261]\tvalid_0's rmse: 0.65506\n"
     ]
    }
   ],
   "source": [
    "lgb_model = lgb.train(parameter,dtrain,valid_sets=dvalid,num_boost_round=5000,\n",
    "                      callbacks=[lgb.early_stopping(stopping_rounds=100)])"
   ]
  },
  {
   "cell_type": "code",
   "execution_count": 165,
   "id": "5f60912c",
   "metadata": {},
   "outputs": [],
   "source": [
    "from sklearn.metrics import roc_auc_score"
   ]
  },
  {
   "cell_type": "code",
   "execution_count": 166,
   "id": "5485ded1",
   "metadata": {},
   "outputs": [],
   "source": [
    "## Check the performamce for each model in the training data of the imbalanced data \n",
    "lgb_train_perf = model_performance_regression_sklearn(lgb_model,X_train1,y_train)\n",
    "## Check the performamce for each model in the imbalanced validation data\n",
    "lgb_val_perf = model_performance_regression_sklearn(lgb_model,X_val1,y_val)\n",
    "lgb_perf = pd.concat([lgb_train_perf.T,lgb_val_perf.T],axis=1)\n",
    "lgb_perf.columns =[\"Training\",\"Validation\"]"
   ]
  },
  {
   "cell_type": "code",
   "execution_count": 167,
   "id": "9c6a6d05",
   "metadata": {},
   "outputs": [
    {
     "name": "stdout",
     "output_type": "stream",
     "text": [
      "Peformance measures on the original data\n"
     ]
    },
    {
     "data": {
      "text/html": [
       "<div>\n",
       "<style scoped>\n",
       "    .dataframe tbody tr th:only-of-type {\n",
       "        vertical-align: middle;\n",
       "    }\n",
       "\n",
       "    .dataframe tbody tr th {\n",
       "        vertical-align: top;\n",
       "    }\n",
       "\n",
       "    .dataframe thead th {\n",
       "        text-align: right;\n",
       "    }\n",
       "</style>\n",
       "<table border=\"1\" class=\"dataframe\">\n",
       "  <thead>\n",
       "    <tr style=\"text-align: right;\">\n",
       "      <th></th>\n",
       "      <th>Training</th>\n",
       "      <th>Validation</th>\n",
       "    </tr>\n",
       "  </thead>\n",
       "  <tbody>\n",
       "    <tr>\n",
       "      <th>Root Mean Squared error</th>\n",
       "      <td>0.641</td>\n",
       "      <td>0.655</td>\n",
       "    </tr>\n",
       "    <tr>\n",
       "      <th>Mean Squared error</th>\n",
       "      <td>0.411</td>\n",
       "      <td>0.429</td>\n",
       "    </tr>\n",
       "    <tr>\n",
       "      <th>Mean Absolute error</th>\n",
       "      <td>0.560</td>\n",
       "      <td>0.568</td>\n",
       "    </tr>\n",
       "    <tr>\n",
       "      <th>R2 Score</th>\n",
       "      <td>0.010</td>\n",
       "      <td>-0.011</td>\n",
       "    </tr>\n",
       "  </tbody>\n",
       "</table>\n",
       "</div>"
      ],
      "text/plain": [
       "                         Training  Validation\n",
       "Root Mean Squared error     0.641       0.655\n",
       "Mean Squared error          0.411       0.429\n",
       "Mean Absolute error         0.560       0.568\n",
       "R2 Score                    0.010      -0.011"
      ]
     },
     "execution_count": 167,
     "metadata": {},
     "output_type": "execute_result"
    }
   ],
   "source": [
    "print(\"Peformance measures on the original data\")\n",
    "lgb_perf"
   ]
  },
  {
   "cell_type": "code",
   "execution_count": 169,
   "id": "69edd988",
   "metadata": {},
   "outputs": [],
   "source": [
    "# Code   to predict  the target  variable using the best model on the  testing dataset\n",
    "test_data['label'] = lgb_model.predict(X_test1)"
   ]
  },
  {
   "cell_type": "code",
   "execution_count": 170,
   "id": "f79d539c",
   "metadata": {},
   "outputs": [],
   "source": [
    "data_df2 =pd.DataFrame({\"tweet_id\":test_data[\"tweet_id\"],'label':test_data['label']})"
   ]
  },
  {
   "cell_type": "code",
   "execution_count": 171,
   "id": "081065ac",
   "metadata": {},
   "outputs": [
    {
     "data": {
      "text/html": [
       "<div>\n",
       "<style scoped>\n",
       "    .dataframe tbody tr th:only-of-type {\n",
       "        vertical-align: middle;\n",
       "    }\n",
       "\n",
       "    .dataframe tbody tr th {\n",
       "        vertical-align: top;\n",
       "    }\n",
       "\n",
       "    .dataframe thead th {\n",
       "        text-align: right;\n",
       "    }\n",
       "</style>\n",
       "<table border=\"1\" class=\"dataframe\">\n",
       "  <thead>\n",
       "    <tr style=\"text-align: right;\">\n",
       "      <th></th>\n",
       "      <th>tweet_id</th>\n",
       "      <th>label</th>\n",
       "    </tr>\n",
       "  </thead>\n",
       "  <tbody>\n",
       "    <tr>\n",
       "      <th>0</th>\n",
       "      <td>00BHHHP1</td>\n",
       "      <td>0.343</td>\n",
       "    </tr>\n",
       "    <tr>\n",
       "      <th>1</th>\n",
       "      <td>00UNMD0E</td>\n",
       "      <td>0.343</td>\n",
       "    </tr>\n",
       "    <tr>\n",
       "      <th>2</th>\n",
       "      <td>01AXPTJF</td>\n",
       "      <td>0.343</td>\n",
       "    </tr>\n",
       "    <tr>\n",
       "      <th>3</th>\n",
       "      <td>01HOEQJW</td>\n",
       "      <td>0.343</td>\n",
       "    </tr>\n",
       "    <tr>\n",
       "      <th>4</th>\n",
       "      <td>01JUKMAO</td>\n",
       "      <td>0.343</td>\n",
       "    </tr>\n",
       "  </tbody>\n",
       "</table>\n",
       "</div>"
      ],
      "text/plain": [
       "   tweet_id  label\n",
       "0  00BHHHP1  0.343\n",
       "1  00UNMD0E  0.343\n",
       "2  01AXPTJF  0.343\n",
       "3  01HOEQJW  0.343\n",
       "4  01JUKMAO  0.343"
      ]
     },
     "execution_count": 171,
     "metadata": {},
     "output_type": "execute_result"
    }
   ],
   "source": [
    "data_df2.head()"
   ]
  },
  {
   "cell_type": "code",
   "execution_count": 172,
   "id": "97a206f1",
   "metadata": {},
   "outputs": [
    {
     "data": {
      "text/html": [
       "<div>\n",
       "<style scoped>\n",
       "    .dataframe tbody tr th:only-of-type {\n",
       "        vertical-align: middle;\n",
       "    }\n",
       "\n",
       "    .dataframe tbody tr th {\n",
       "        vertical-align: top;\n",
       "    }\n",
       "\n",
       "    .dataframe thead th {\n",
       "        text-align: right;\n",
       "    }\n",
       "</style>\n",
       "<table border=\"1\" class=\"dataframe\">\n",
       "  <thead>\n",
       "    <tr style=\"text-align: right;\">\n",
       "      <th></th>\n",
       "      <th>tweet_id</th>\n",
       "      <th>label</th>\n",
       "    </tr>\n",
       "  </thead>\n",
       "  <tbody>\n",
       "    <tr>\n",
       "      <th>5172</th>\n",
       "      <td>ZXVVNC5O</td>\n",
       "      <td>0.306</td>\n",
       "    </tr>\n",
       "    <tr>\n",
       "      <th>5173</th>\n",
       "      <td>ZYIANVI8</td>\n",
       "      <td>0.306</td>\n",
       "    </tr>\n",
       "    <tr>\n",
       "      <th>5174</th>\n",
       "      <td>ZYITEHAH</td>\n",
       "      <td>0.306</td>\n",
       "    </tr>\n",
       "    <tr>\n",
       "      <th>5175</th>\n",
       "      <td>ZZ3BMBTG</td>\n",
       "      <td>0.306</td>\n",
       "    </tr>\n",
       "    <tr>\n",
       "      <th>5176</th>\n",
       "      <td>ZZIYCVNH</td>\n",
       "      <td>0.306</td>\n",
       "    </tr>\n",
       "  </tbody>\n",
       "</table>\n",
       "</div>"
      ],
      "text/plain": [
       "      tweet_id  label\n",
       "5172  ZXVVNC5O  0.306\n",
       "5173  ZYIANVI8  0.306\n",
       "5174  ZYITEHAH  0.306\n",
       "5175  ZZ3BMBTG  0.306\n",
       "5176  ZZIYCVNH  0.306"
      ]
     },
     "execution_count": 172,
     "metadata": {},
     "output_type": "execute_result"
    }
   ],
   "source": [
    "data_df2.tail()"
   ]
  },
  {
   "cell_type": "code",
   "execution_count": 173,
   "id": "a7cf0f21",
   "metadata": {},
   "outputs": [],
   "source": [
    "# code to save the predicted dataset as a csv file\n",
    "data_df2.to_csv(\"Submission_file(Vaccine3).csv\",index=False) "
   ]
  },
  {
   "cell_type": "code",
   "execution_count": null,
   "id": "01469c80",
   "metadata": {},
   "outputs": [],
   "source": [
    "X_train.shape,X_val.shape"
   ]
  },
  {
   "cell_type": "code",
   "execution_count": null,
   "id": "879d2ea9",
   "metadata": {},
   "outputs": [],
   "source": [
    "X_test.shape"
   ]
  },
  {
   "cell_type": "markdown",
   "id": "d1f1b825",
   "metadata": {},
   "source": [
    "### CATBOOST REGRESSION"
   ]
  },
  {
   "cell_type": "code",
   "execution_count": 102,
   "id": "071d7979",
   "metadata": {},
   "outputs": [],
   "source": [
    "from catboost import CatBoostRegressor"
   ]
  },
  {
   "cell_type": "code",
   "execution_count": 103,
   "id": "823b6e00",
   "metadata": {},
   "outputs": [],
   "source": [
    "### Code to select all the features on the training dataset\n",
    "features = list(X_train.columns)"
   ]
  },
  {
   "cell_type": "code",
   "execution_count": 104,
   "id": "88012624",
   "metadata": {},
   "outputs": [
    {
     "data": {
      "text/plain": [
       "['safe_text']"
      ]
     },
     "execution_count": 104,
     "metadata": {},
     "output_type": "execute_result"
    }
   ],
   "source": [
    "features"
   ]
  },
  {
   "cell_type": "code",
   "execution_count": 105,
   "id": "2cefb14f",
   "metadata": {},
   "outputs": [
    {
     "name": "stdout",
     "output_type": "stream",
     "text": [
      "<class 'pandas.core.frame.DataFrame'>\n",
      "Index: 7000 entries, 1 to 10000\n",
      "Data columns (total 1 columns):\n",
      " #   Column     Non-Null Count  Dtype \n",
      "---  ------     --------------  ----- \n",
      " 0   safe_text  7000 non-null   object\n",
      "dtypes: object(1)\n",
      "memory usage: 109.4+ KB\n"
     ]
    }
   ],
   "source": [
    "X_train.info()"
   ]
  },
  {
   "cell_type": "code",
   "execution_count": 106,
   "id": "2623fe8e",
   "metadata": {},
   "outputs": [],
   "source": [
    "### Code to select categorical features\n",
    "cat_features = np.where(X_train.dtypes !=float)[0]"
   ]
  },
  {
   "cell_type": "code",
   "execution_count": 107,
   "id": "39dc81a8",
   "metadata": {},
   "outputs": [
    {
     "data": {
      "text/plain": [
       "array([0], dtype=int64)"
      ]
     },
     "execution_count": 107,
     "metadata": {},
     "output_type": "execute_result"
    }
   ],
   "source": [
    "cat_features"
   ]
  },
  {
   "cell_type": "code",
   "execution_count": 79,
   "id": "0fe521df",
   "metadata": {},
   "outputs": [
    {
     "data": {
      "application/vnd.jupyter.widget-view+json": {
       "model_id": "eae7ae9a96864d9ca603d432a4c5ed94",
       "version_major": 2,
       "version_minor": 0
      },
      "text/plain": [
       "MetricVisualizer(layout=Layout(align_self='stretch', height='500px'))"
      ]
     },
     "metadata": {},
     "output_type": "display_data"
    },
    {
     "name": "stdout",
     "output_type": "stream",
     "text": [
      "0:\tlearn: 0.6445591\ttest: 0.6515842\tbest: 0.6515842 (0)\ttotal: 43.5ms\tremaining: 3m 37s\n",
      "20:\tlearn: 0.6445500\ttest: 0.6515899\tbest: 0.6515842 (0)\ttotal: 547ms\tremaining: 2m 9s\n",
      "40:\tlearn: 0.6445394\ttest: 0.6515976\tbest: 0.6515842 (0)\ttotal: 1.02s\tremaining: 2m 3s\n",
      "60:\tlearn: 0.6445290\ttest: 0.6516051\tbest: 0.6515842 (0)\ttotal: 1.47s\tremaining: 1m 59s\n",
      "80:\tlearn: 0.6445217\ttest: 0.6516094\tbest: 0.6515842 (0)\ttotal: 1.9s\tremaining: 1m 55s\n",
      "100:\tlearn: 0.6445143\ttest: 0.6516143\tbest: 0.6515842 (0)\ttotal: 2.34s\tremaining: 1m 53s\n",
      "120:\tlearn: 0.6445069\ttest: 0.6516182\tbest: 0.6515842 (0)\ttotal: 2.73s\tremaining: 1m 50s\n",
      "140:\tlearn: 0.6444983\ttest: 0.6516233\tbest: 0.6515842 (0)\ttotal: 3.14s\tremaining: 1m 48s\n",
      "160:\tlearn: 0.6444883\ttest: 0.6516307\tbest: 0.6515842 (0)\ttotal: 3.58s\tremaining: 1m 47s\n",
      "180:\tlearn: 0.6444795\ttest: 0.6516368\tbest: 0.6515842 (0)\ttotal: 4s\tremaining: 1m 46s\n",
      "200:\tlearn: 0.6444707\ttest: 0.6516431\tbest: 0.6515842 (0)\ttotal: 4.57s\tremaining: 1m 49s\n",
      "220:\tlearn: 0.6444643\ttest: 0.6516476\tbest: 0.6515842 (0)\ttotal: 5.01s\tremaining: 1m 48s\n",
      "240:\tlearn: 0.6444557\ttest: 0.6516535\tbest: 0.6515842 (0)\ttotal: 5.56s\tremaining: 1m 49s\n",
      "260:\tlearn: 0.6444465\ttest: 0.6516596\tbest: 0.6515842 (0)\ttotal: 6.01s\tremaining: 1m 49s\n",
      "280:\tlearn: 0.6444385\ttest: 0.6516635\tbest: 0.6515842 (0)\ttotal: 6.45s\tremaining: 1m 48s\n",
      "300:\tlearn: 0.6444300\ttest: 0.6516704\tbest: 0.6515842 (0)\ttotal: 6.88s\tremaining: 1m 47s\n",
      "320:\tlearn: 0.6444224\ttest: 0.6516767\tbest: 0.6515842 (0)\ttotal: 7.29s\tremaining: 1m 46s\n",
      "340:\tlearn: 0.6444127\ttest: 0.6516817\tbest: 0.6515842 (0)\ttotal: 7.78s\tremaining: 1m 46s\n",
      "360:\tlearn: 0.6444041\ttest: 0.6516869\tbest: 0.6515842 (0)\ttotal: 8.2s\tremaining: 1m 45s\n",
      "380:\tlearn: 0.6443955\ttest: 0.6516955\tbest: 0.6515842 (0)\ttotal: 8.63s\tremaining: 1m 44s\n",
      "400:\tlearn: 0.6443888\ttest: 0.6516993\tbest: 0.6515842 (0)\ttotal: 9.02s\tremaining: 1m 43s\n",
      "420:\tlearn: 0.6443803\ttest: 0.6517072\tbest: 0.6515842 (0)\ttotal: 9.51s\tremaining: 1m 43s\n",
      "440:\tlearn: 0.6443735\ttest: 0.6517131\tbest: 0.6515842 (0)\ttotal: 10s\tremaining: 1m 43s\n",
      "460:\tlearn: 0.6443669\ttest: 0.6517174\tbest: 0.6515842 (0)\ttotal: 10.5s\tremaining: 1m 43s\n",
      "480:\tlearn: 0.6443620\ttest: 0.6517223\tbest: 0.6515842 (0)\ttotal: 11s\tremaining: 1m 43s\n",
      "500:\tlearn: 0.6443545\ttest: 0.6517293\tbest: 0.6515842 (0)\ttotal: 11.6s\tremaining: 1m 43s\n",
      "520:\tlearn: 0.6443474\ttest: 0.6517344\tbest: 0.6515842 (0)\ttotal: 12.1s\tremaining: 1m 43s\n",
      "540:\tlearn: 0.6443416\ttest: 0.6517379\tbest: 0.6515842 (0)\ttotal: 12.6s\tremaining: 1m 43s\n",
      "560:\tlearn: 0.6443333\ttest: 0.6517456\tbest: 0.6515842 (0)\ttotal: 13.2s\tremaining: 1m 44s\n",
      "580:\tlearn: 0.6443260\ttest: 0.6517527\tbest: 0.6515842 (0)\ttotal: 13.7s\tremaining: 1m 43s\n",
      "600:\tlearn: 0.6443200\ttest: 0.6517574\tbest: 0.6515842 (0)\ttotal: 14.3s\tremaining: 1m 44s\n",
      "620:\tlearn: 0.6443142\ttest: 0.6517605\tbest: 0.6515842 (0)\ttotal: 14.8s\tremaining: 1m 44s\n",
      "640:\tlearn: 0.6443047\ttest: 0.6517679\tbest: 0.6515842 (0)\ttotal: 15.2s\tremaining: 1m 43s\n",
      "660:\tlearn: 0.6443007\ttest: 0.6517710\tbest: 0.6515842 (0)\ttotal: 15.6s\tremaining: 1m 42s\n",
      "680:\tlearn: 0.6442933\ttest: 0.6517765\tbest: 0.6515842 (0)\ttotal: 16.1s\tremaining: 1m 42s\n",
      "700:\tlearn: 0.6442854\ttest: 0.6517841\tbest: 0.6515842 (0)\ttotal: 16.5s\tremaining: 1m 41s\n",
      "720:\tlearn: 0.6442789\ttest: 0.6517893\tbest: 0.6515842 (0)\ttotal: 16.9s\tremaining: 1m 40s\n",
      "740:\tlearn: 0.6442728\ttest: 0.6517948\tbest: 0.6515842 (0)\ttotal: 17.6s\tremaining: 1m 41s\n",
      "760:\tlearn: 0.6442652\ttest: 0.6518054\tbest: 0.6515842 (0)\ttotal: 18.1s\tremaining: 1m 40s\n",
      "780:\tlearn: 0.6442582\ttest: 0.6518115\tbest: 0.6515842 (0)\ttotal: 18.5s\tremaining: 1m 40s\n",
      "800:\tlearn: 0.6442523\ttest: 0.6518165\tbest: 0.6515842 (0)\ttotal: 18.9s\tremaining: 1m 39s\n",
      "820:\tlearn: 0.6442464\ttest: 0.6518237\tbest: 0.6515842 (0)\ttotal: 19.4s\tremaining: 1m 38s\n",
      "840:\tlearn: 0.6442403\ttest: 0.6518285\tbest: 0.6515842 (0)\ttotal: 19.9s\tremaining: 1m 38s\n",
      "860:\tlearn: 0.6442331\ttest: 0.6518352\tbest: 0.6515842 (0)\ttotal: 20.4s\tremaining: 1m 37s\n",
      "880:\tlearn: 0.6442265\ttest: 0.6518400\tbest: 0.6515842 (0)\ttotal: 20.8s\tremaining: 1m 37s\n",
      "900:\tlearn: 0.6442227\ttest: 0.6518441\tbest: 0.6515842 (0)\ttotal: 21.2s\tremaining: 1m 36s\n",
      "920:\tlearn: 0.6442170\ttest: 0.6518497\tbest: 0.6515842 (0)\ttotal: 21.6s\tremaining: 1m 35s\n",
      "940:\tlearn: 0.6442114\ttest: 0.6518539\tbest: 0.6515842 (0)\ttotal: 22s\tremaining: 1m 34s\n",
      "960:\tlearn: 0.6442061\ttest: 0.6518593\tbest: 0.6515842 (0)\ttotal: 22.5s\tremaining: 1m 34s\n",
      "980:\tlearn: 0.6442018\ttest: 0.6518639\tbest: 0.6515842 (0)\ttotal: 22.9s\tremaining: 1m 33s\n",
      "1000:\tlearn: 0.6441966\ttest: 0.6518701\tbest: 0.6515842 (0)\ttotal: 23.3s\tremaining: 1m 33s\n",
      "1020:\tlearn: 0.6441906\ttest: 0.6518757\tbest: 0.6515842 (0)\ttotal: 23.7s\tremaining: 1m 32s\n",
      "1040:\tlearn: 0.6441850\ttest: 0.6518812\tbest: 0.6515842 (0)\ttotal: 24.1s\tremaining: 1m 31s\n",
      "1060:\tlearn: 0.6441774\ttest: 0.6518891\tbest: 0.6515842 (0)\ttotal: 24.6s\tremaining: 1m 31s\n",
      "1080:\tlearn: 0.6441711\ttest: 0.6518930\tbest: 0.6515842 (0)\ttotal: 25s\tremaining: 1m 30s\n",
      "1100:\tlearn: 0.6441663\ttest: 0.6518962\tbest: 0.6515842 (0)\ttotal: 25.6s\tremaining: 1m 30s\n",
      "1120:\tlearn: 0.6441605\ttest: 0.6519018\tbest: 0.6515842 (0)\ttotal: 26.2s\tremaining: 1m 30s\n",
      "1140:\tlearn: 0.6441544\ttest: 0.6519078\tbest: 0.6515842 (0)\ttotal: 26.8s\tremaining: 1m 30s\n",
      "1160:\tlearn: 0.6441499\ttest: 0.6519107\tbest: 0.6515842 (0)\ttotal: 27.3s\tremaining: 1m 30s\n",
      "1180:\tlearn: 0.6441431\ttest: 0.6519203\tbest: 0.6515842 (0)\ttotal: 27.9s\tremaining: 1m 30s\n",
      "1200:\tlearn: 0.6441372\ttest: 0.6519268\tbest: 0.6515842 (0)\ttotal: 28.5s\tremaining: 1m 30s\n",
      "1220:\tlearn: 0.6441335\ttest: 0.6519311\tbest: 0.6515842 (0)\ttotal: 29.1s\tremaining: 1m 29s\n",
      "1240:\tlearn: 0.6441290\ttest: 0.6519376\tbest: 0.6515842 (0)\ttotal: 29.7s\tremaining: 1m 29s\n",
      "1260:\tlearn: 0.6441255\ttest: 0.6519421\tbest: 0.6515842 (0)\ttotal: 30.2s\tremaining: 1m 29s\n",
      "1280:\tlearn: 0.6441210\ttest: 0.6519458\tbest: 0.6515842 (0)\ttotal: 30.8s\tremaining: 1m 29s\n",
      "1300:\tlearn: 0.6441163\ttest: 0.6519503\tbest: 0.6515842 (0)\ttotal: 31.3s\tremaining: 1m 28s\n",
      "1320:\tlearn: 0.6441102\ttest: 0.6519569\tbest: 0.6515842 (0)\ttotal: 31.9s\tremaining: 1m 28s\n",
      "1340:\tlearn: 0.6441064\ttest: 0.6519602\tbest: 0.6515842 (0)\ttotal: 32.3s\tremaining: 1m 28s\n",
      "1360:\tlearn: 0.6441026\ttest: 0.6519631\tbest: 0.6515842 (0)\ttotal: 32.8s\tremaining: 1m 27s\n",
      "1380:\tlearn: 0.6440969\ttest: 0.6519704\tbest: 0.6515842 (0)\ttotal: 33.2s\tremaining: 1m 26s\n",
      "1400:\tlearn: 0.6440938\ttest: 0.6519746\tbest: 0.6515842 (0)\ttotal: 33.6s\tremaining: 1m 26s\n",
      "1420:\tlearn: 0.6440898\ttest: 0.6519789\tbest: 0.6515842 (0)\ttotal: 34s\tremaining: 1m 25s\n",
      "1440:\tlearn: 0.6440860\ttest: 0.6519825\tbest: 0.6515842 (0)\ttotal: 34.4s\tremaining: 1m 25s\n",
      "1460:\tlearn: 0.6440825\ttest: 0.6519869\tbest: 0.6515842 (0)\ttotal: 34.9s\tremaining: 1m 24s\n",
      "1480:\tlearn: 0.6440789\ttest: 0.6519909\tbest: 0.6515842 (0)\ttotal: 35.3s\tremaining: 1m 23s\n",
      "1500:\tlearn: 0.6440750\ttest: 0.6519957\tbest: 0.6515842 (0)\ttotal: 35.7s\tremaining: 1m 23s\n",
      "1520:\tlearn: 0.6440701\ttest: 0.6520015\tbest: 0.6515842 (0)\ttotal: 36.2s\tremaining: 1m 22s\n",
      "1540:\tlearn: 0.6440660\ttest: 0.6520057\tbest: 0.6515842 (0)\ttotal: 36.6s\tremaining: 1m 22s\n",
      "1560:\tlearn: 0.6440611\ttest: 0.6520123\tbest: 0.6515842 (0)\ttotal: 37s\tremaining: 1m 21s\n",
      "1580:\tlearn: 0.6440560\ttest: 0.6520167\tbest: 0.6515842 (0)\ttotal: 37.4s\tremaining: 1m 20s\n",
      "1600:\tlearn: 0.6440517\ttest: 0.6520213\tbest: 0.6515842 (0)\ttotal: 37.9s\tremaining: 1m 20s\n",
      "1620:\tlearn: 0.6440460\ttest: 0.6520280\tbest: 0.6515842 (0)\ttotal: 38.3s\tremaining: 1m 19s\n",
      "1640:\tlearn: 0.6440413\ttest: 0.6520325\tbest: 0.6515842 (0)\ttotal: 38.9s\tremaining: 1m 19s\n",
      "1660:\tlearn: 0.6440373\ttest: 0.6520371\tbest: 0.6515842 (0)\ttotal: 39.3s\tremaining: 1m 19s\n",
      "1680:\tlearn: 0.6440322\ttest: 0.6520422\tbest: 0.6515842 (0)\ttotal: 39.7s\tremaining: 1m 18s\n",
      "1700:\tlearn: 0.6440290\ttest: 0.6520463\tbest: 0.6515842 (0)\ttotal: 40.2s\tremaining: 1m 17s\n",
      "1720:\tlearn: 0.6440251\ttest: 0.6520518\tbest: 0.6515842 (0)\ttotal: 40.6s\tremaining: 1m 17s\n",
      "1740:\tlearn: 0.6440202\ttest: 0.6520593\tbest: 0.6515842 (0)\ttotal: 41s\tremaining: 1m 16s\n",
      "1760:\tlearn: 0.6440166\ttest: 0.6520640\tbest: 0.6515842 (0)\ttotal: 41.5s\tremaining: 1m 16s\n",
      "1780:\tlearn: 0.6440119\ttest: 0.6520685\tbest: 0.6515842 (0)\ttotal: 42.2s\tremaining: 1m 16s\n",
      "1800:\tlearn: 0.6440090\ttest: 0.6520710\tbest: 0.6515842 (0)\ttotal: 42.7s\tremaining: 1m 15s\n",
      "1820:\tlearn: 0.6440042\ttest: 0.6520768\tbest: 0.6515842 (0)\ttotal: 43.4s\tremaining: 1m 15s\n"
     ]
    },
    {
     "name": "stdout",
     "output_type": "stream",
     "text": [
      "1840:\tlearn: 0.6439992\ttest: 0.6520825\tbest: 0.6515842 (0)\ttotal: 44s\tremaining: 1m 15s\n",
      "1860:\tlearn: 0.6439943\ttest: 0.6520870\tbest: 0.6515842 (0)\ttotal: 44.7s\tremaining: 1m 15s\n",
      "1880:\tlearn: 0.6439908\ttest: 0.6520905\tbest: 0.6515842 (0)\ttotal: 45.2s\tremaining: 1m 14s\n",
      "1900:\tlearn: 0.6439865\ttest: 0.6520972\tbest: 0.6515842 (0)\ttotal: 45.7s\tremaining: 1m 14s\n",
      "1920:\tlearn: 0.6439835\ttest: 0.6520989\tbest: 0.6515842 (0)\ttotal: 46.4s\tremaining: 1m 14s\n",
      "1940:\tlearn: 0.6439794\ttest: 0.6521039\tbest: 0.6515842 (0)\ttotal: 46.9s\tremaining: 1m 13s\n",
      "1960:\tlearn: 0.6439756\ttest: 0.6521084\tbest: 0.6515842 (0)\ttotal: 47.4s\tremaining: 1m 13s\n",
      "1980:\tlearn: 0.6439733\ttest: 0.6521103\tbest: 0.6515842 (0)\ttotal: 47.8s\tremaining: 1m 12s\n",
      "2000:\tlearn: 0.6439698\ttest: 0.6521141\tbest: 0.6515842 (0)\ttotal: 48.2s\tremaining: 1m 12s\n",
      "2020:\tlearn: 0.6439661\ttest: 0.6521176\tbest: 0.6515842 (0)\ttotal: 48.6s\tremaining: 1m 11s\n",
      "2040:\tlearn: 0.6439623\ttest: 0.6521226\tbest: 0.6515842 (0)\ttotal: 49s\tremaining: 1m 11s\n",
      "2060:\tlearn: 0.6439588\ttest: 0.6521276\tbest: 0.6515842 (0)\ttotal: 49.5s\tremaining: 1m 10s\n",
      "2080:\tlearn: 0.6439553\ttest: 0.6521310\tbest: 0.6515842 (0)\ttotal: 49.9s\tremaining: 1m 9s\n",
      "2100:\tlearn: 0.6439515\ttest: 0.6521360\tbest: 0.6515842 (0)\ttotal: 50.3s\tremaining: 1m 9s\n",
      "2120:\tlearn: 0.6439485\ttest: 0.6521392\tbest: 0.6515842 (0)\ttotal: 50.7s\tremaining: 1m 8s\n",
      "2140:\tlearn: 0.6439439\ttest: 0.6521464\tbest: 0.6515842 (0)\ttotal: 51.1s\tremaining: 1m 8s\n",
      "2160:\tlearn: 0.6439388\ttest: 0.6521552\tbest: 0.6515842 (0)\ttotal: 51.6s\tremaining: 1m 7s\n",
      "2180:\tlearn: 0.6439351\ttest: 0.6521589\tbest: 0.6515842 (0)\ttotal: 52s\tremaining: 1m 7s\n",
      "2200:\tlearn: 0.6439318\ttest: 0.6521641\tbest: 0.6515842 (0)\ttotal: 52.4s\tremaining: 1m 6s\n",
      "2220:\tlearn: 0.6439281\ttest: 0.6521673\tbest: 0.6515842 (0)\ttotal: 52.8s\tremaining: 1m 6s\n",
      "2240:\tlearn: 0.6439257\ttest: 0.6521701\tbest: 0.6515842 (0)\ttotal: 53.2s\tremaining: 1m 5s\n",
      "2260:\tlearn: 0.6439231\ttest: 0.6521723\tbest: 0.6515842 (0)\ttotal: 53.6s\tremaining: 1m 4s\n",
      "2280:\tlearn: 0.6439206\ttest: 0.6521743\tbest: 0.6515842 (0)\ttotal: 54s\tremaining: 1m 4s\n",
      "2300:\tlearn: 0.6439166\ttest: 0.6521780\tbest: 0.6515842 (0)\ttotal: 54.4s\tremaining: 1m 3s\n",
      "2320:\tlearn: 0.6439138\ttest: 0.6521815\tbest: 0.6515842 (0)\ttotal: 54.8s\tremaining: 1m 3s\n",
      "2340:\tlearn: 0.6439102\ttest: 0.6521866\tbest: 0.6515842 (0)\ttotal: 55.3s\tremaining: 1m 2s\n",
      "2360:\tlearn: 0.6439048\ttest: 0.6521934\tbest: 0.6515842 (0)\ttotal: 55.7s\tremaining: 1m 2s\n",
      "2380:\tlearn: 0.6439022\ttest: 0.6521968\tbest: 0.6515842 (0)\ttotal: 56.1s\tremaining: 1m 1s\n",
      "2400:\tlearn: 0.6438981\ttest: 0.6522026\tbest: 0.6515842 (0)\ttotal: 56.6s\tremaining: 1m 1s\n",
      "2420:\tlearn: 0.6438950\ttest: 0.6522066\tbest: 0.6515842 (0)\ttotal: 57.1s\tremaining: 1m\n",
      "2440:\tlearn: 0.6438912\ttest: 0.6522111\tbest: 0.6515842 (0)\ttotal: 57.7s\tremaining: 1m\n",
      "2460:\tlearn: 0.6438871\ttest: 0.6522170\tbest: 0.6515842 (0)\ttotal: 58.2s\tremaining: 1m\n",
      "2480:\tlearn: 0.6438843\ttest: 0.6522228\tbest: 0.6515842 (0)\ttotal: 58.8s\tremaining: 59.7s\n",
      "2500:\tlearn: 0.6438807\ttest: 0.6522272\tbest: 0.6515842 (0)\ttotal: 59.3s\tremaining: 59.3s\n",
      "2520:\tlearn: 0.6438773\ttest: 0.6522322\tbest: 0.6515842 (0)\ttotal: 59.9s\tremaining: 58.9s\n",
      "2540:\tlearn: 0.6438725\ttest: 0.6522388\tbest: 0.6515842 (0)\ttotal: 1m\tremaining: 58.5s\n",
      "2560:\tlearn: 0.6438701\ttest: 0.6522419\tbest: 0.6515842 (0)\ttotal: 1m\tremaining: 58s\n",
      "2580:\tlearn: 0.6438676\ttest: 0.6522438\tbest: 0.6515842 (0)\ttotal: 1m 1s\tremaining: 57.6s\n",
      "2600:\tlearn: 0.6438652\ttest: 0.6522474\tbest: 0.6515842 (0)\ttotal: 1m 1s\tremaining: 57.1s\n",
      "2620:\tlearn: 0.6438612\ttest: 0.6522530\tbest: 0.6515842 (0)\ttotal: 1m 2s\tremaining: 56.6s\n",
      "2640:\tlearn: 0.6438584\ttest: 0.6522573\tbest: 0.6515842 (0)\ttotal: 1m 2s\tremaining: 56s\n",
      "2660:\tlearn: 0.6438555\ttest: 0.6522601\tbest: 0.6515842 (0)\ttotal: 1m 3s\tremaining: 55.5s\n",
      "2680:\tlearn: 0.6438525\ttest: 0.6522655\tbest: 0.6515842 (0)\ttotal: 1m 3s\tremaining: 55s\n",
      "2700:\tlearn: 0.6438496\ttest: 0.6522695\tbest: 0.6515842 (0)\ttotal: 1m 3s\tremaining: 54.4s\n",
      "2720:\tlearn: 0.6438466\ttest: 0.6522748\tbest: 0.6515842 (0)\ttotal: 1m 4s\tremaining: 53.9s\n",
      "2740:\tlearn: 0.6438430\ttest: 0.6522789\tbest: 0.6515842 (0)\ttotal: 1m 4s\tremaining: 53.4s\n",
      "2760:\tlearn: 0.6438407\ttest: 0.6522812\tbest: 0.6515842 (0)\ttotal: 1m 5s\tremaining: 52.9s\n",
      "2780:\tlearn: 0.6438384\ttest: 0.6522843\tbest: 0.6515842 (0)\ttotal: 1m 5s\tremaining: 52.3s\n",
      "2800:\tlearn: 0.6438345\ttest: 0.6522901\tbest: 0.6515842 (0)\ttotal: 1m 6s\tremaining: 51.8s\n",
      "2820:\tlearn: 0.6438316\ttest: 0.6522937\tbest: 0.6515842 (0)\ttotal: 1m 6s\tremaining: 51.3s\n",
      "2840:\tlearn: 0.6438279\ttest: 0.6522977\tbest: 0.6515842 (0)\ttotal: 1m 6s\tremaining: 50.8s\n",
      "2860:\tlearn: 0.6438248\ttest: 0.6523005\tbest: 0.6515842 (0)\ttotal: 1m 7s\tremaining: 50.3s\n",
      "2880:\tlearn: 0.6438211\ttest: 0.6523040\tbest: 0.6515842 (0)\ttotal: 1m 7s\tremaining: 49.8s\n",
      "2900:\tlearn: 0.6438186\ttest: 0.6523072\tbest: 0.6515842 (0)\ttotal: 1m 8s\tremaining: 49.3s\n",
      "2920:\tlearn: 0.6438152\ttest: 0.6523104\tbest: 0.6515842 (0)\ttotal: 1m 8s\tremaining: 48.8s\n",
      "2940:\tlearn: 0.6438116\ttest: 0.6523143\tbest: 0.6515842 (0)\ttotal: 1m 9s\tremaining: 48.4s\n",
      "2960:\tlearn: 0.6438077\ttest: 0.6523194\tbest: 0.6515842 (0)\ttotal: 1m 9s\tremaining: 47.9s\n",
      "2980:\tlearn: 0.6438046\ttest: 0.6523251\tbest: 0.6515842 (0)\ttotal: 1m 10s\tremaining: 47.4s\n",
      "3000:\tlearn: 0.6438020\ttest: 0.6523282\tbest: 0.6515842 (0)\ttotal: 1m 10s\tremaining: 46.9s\n",
      "3020:\tlearn: 0.6437978\ttest: 0.6523317\tbest: 0.6515842 (0)\ttotal: 1m 10s\tremaining: 46.4s\n",
      "3040:\tlearn: 0.6437959\ttest: 0.6523338\tbest: 0.6515842 (0)\ttotal: 1m 11s\tremaining: 45.9s\n",
      "3060:\tlearn: 0.6437931\ttest: 0.6523374\tbest: 0.6515842 (0)\ttotal: 1m 11s\tremaining: 45.4s\n",
      "3080:\tlearn: 0.6437899\ttest: 0.6523423\tbest: 0.6515842 (0)\ttotal: 1m 12s\tremaining: 44.9s\n",
      "3100:\tlearn: 0.6437873\ttest: 0.6523468\tbest: 0.6515842 (0)\ttotal: 1m 12s\tremaining: 44.4s\n",
      "3120:\tlearn: 0.6437847\ttest: 0.6523506\tbest: 0.6515842 (0)\ttotal: 1m 13s\tremaining: 44s\n",
      "3140:\tlearn: 0.6437819\ttest: 0.6523546\tbest: 0.6515842 (0)\ttotal: 1m 13s\tremaining: 43.5s\n",
      "3160:\tlearn: 0.6437787\ttest: 0.6523588\tbest: 0.6515842 (0)\ttotal: 1m 14s\tremaining: 43.1s\n",
      "3180:\tlearn: 0.6437758\ttest: 0.6523631\tbest: 0.6515842 (0)\ttotal: 1m 14s\tremaining: 42.7s\n",
      "3200:\tlearn: 0.6437728\ttest: 0.6523678\tbest: 0.6515842 (0)\ttotal: 1m 15s\tremaining: 42.3s\n",
      "3220:\tlearn: 0.6437696\ttest: 0.6523722\tbest: 0.6515842 (0)\ttotal: 1m 15s\tremaining: 41.8s\n",
      "3240:\tlearn: 0.6437669\ttest: 0.6523768\tbest: 0.6515842 (0)\ttotal: 1m 16s\tremaining: 41.4s\n",
      "3260:\tlearn: 0.6437635\ttest: 0.6523820\tbest: 0.6515842 (0)\ttotal: 1m 16s\tremaining: 40.9s\n",
      "3280:\tlearn: 0.6437598\ttest: 0.6523869\tbest: 0.6515842 (0)\ttotal: 1m 17s\tremaining: 40.5s\n",
      "3300:\tlearn: 0.6437564\ttest: 0.6523897\tbest: 0.6515842 (0)\ttotal: 1m 17s\tremaining: 40s\n",
      "3320:\tlearn: 0.6437538\ttest: 0.6523932\tbest: 0.6515842 (0)\ttotal: 1m 18s\tremaining: 39.5s\n",
      "3340:\tlearn: 0.6437515\ttest: 0.6523958\tbest: 0.6515842 (0)\ttotal: 1m 18s\tremaining: 39s\n",
      "3360:\tlearn: 0.6437486\ttest: 0.6524001\tbest: 0.6515842 (0)\ttotal: 1m 19s\tremaining: 38.5s\n",
      "3380:\tlearn: 0.6437459\ttest: 0.6524026\tbest: 0.6515842 (0)\ttotal: 1m 19s\tremaining: 38s\n",
      "3400:\tlearn: 0.6437431\ttest: 0.6524050\tbest: 0.6515842 (0)\ttotal: 1m 19s\tremaining: 37.5s\n",
      "3420:\tlearn: 0.6437405\ttest: 0.6524082\tbest: 0.6515842 (0)\ttotal: 1m 20s\tremaining: 37.1s\n",
      "3440:\tlearn: 0.6437383\ttest: 0.6524107\tbest: 0.6515842 (0)\ttotal: 1m 20s\tremaining: 36.6s\n",
      "3460:\tlearn: 0.6437360\ttest: 0.6524147\tbest: 0.6515842 (0)\ttotal: 1m 21s\tremaining: 36.1s\n",
      "3480:\tlearn: 0.6437331\ttest: 0.6524192\tbest: 0.6515842 (0)\ttotal: 1m 21s\tremaining: 35.6s\n",
      "3500:\tlearn: 0.6437301\ttest: 0.6524232\tbest: 0.6515842 (0)\ttotal: 1m 22s\tremaining: 35.2s\n",
      "3520:\tlearn: 0.6437275\ttest: 0.6524258\tbest: 0.6515842 (0)\ttotal: 1m 22s\tremaining: 34.7s\n",
      "3540:\tlearn: 0.6437244\ttest: 0.6524293\tbest: 0.6515842 (0)\ttotal: 1m 22s\tremaining: 34.2s\n",
      "3560:\tlearn: 0.6437211\ttest: 0.6524343\tbest: 0.6515842 (0)\ttotal: 1m 23s\tremaining: 33.7s\n",
      "3580:\tlearn: 0.6437189\ttest: 0.6524366\tbest: 0.6515842 (0)\ttotal: 1m 23s\tremaining: 33.2s\n",
      "3600:\tlearn: 0.6437163\ttest: 0.6524402\tbest: 0.6515842 (0)\ttotal: 1m 24s\tremaining: 32.7s\n",
      "3620:\tlearn: 0.6437144\ttest: 0.6524424\tbest: 0.6515842 (0)\ttotal: 1m 24s\tremaining: 32.2s\n",
      "3640:\tlearn: 0.6437120\ttest: 0.6524461\tbest: 0.6515842 (0)\ttotal: 1m 24s\tremaining: 31.7s\n",
      "3660:\tlearn: 0.6437090\ttest: 0.6524492\tbest: 0.6515842 (0)\ttotal: 1m 25s\tremaining: 31.2s\n"
     ]
    },
    {
     "name": "stdout",
     "output_type": "stream",
     "text": [
      "3680:\tlearn: 0.6437069\ttest: 0.6524512\tbest: 0.6515842 (0)\ttotal: 1m 25s\tremaining: 30.8s\n",
      "3700:\tlearn: 0.6437044\ttest: 0.6524546\tbest: 0.6515842 (0)\ttotal: 1m 26s\tremaining: 30.3s\n",
      "3720:\tlearn: 0.6437013\ttest: 0.6524593\tbest: 0.6515842 (0)\ttotal: 1m 26s\tremaining: 29.8s\n",
      "3740:\tlearn: 0.6436986\ttest: 0.6524626\tbest: 0.6515842 (0)\ttotal: 1m 27s\tremaining: 29.3s\n",
      "3760:\tlearn: 0.6436963\ttest: 0.6524651\tbest: 0.6515842 (0)\ttotal: 1m 27s\tremaining: 28.8s\n",
      "3780:\tlearn: 0.6436942\ttest: 0.6524690\tbest: 0.6515842 (0)\ttotal: 1m 27s\tremaining: 28.3s\n",
      "3800:\tlearn: 0.6436918\ttest: 0.6524723\tbest: 0.6515842 (0)\ttotal: 1m 28s\tremaining: 27.9s\n",
      "3820:\tlearn: 0.6436890\ttest: 0.6524759\tbest: 0.6515842 (0)\ttotal: 1m 28s\tremaining: 27.4s\n",
      "3840:\tlearn: 0.6436866\ttest: 0.6524788\tbest: 0.6515842 (0)\ttotal: 1m 29s\tremaining: 27s\n",
      "3860:\tlearn: 0.6436842\ttest: 0.6524820\tbest: 0.6515842 (0)\ttotal: 1m 29s\tremaining: 26.5s\n",
      "3880:\tlearn: 0.6436813\ttest: 0.6524843\tbest: 0.6515842 (0)\ttotal: 1m 30s\tremaining: 26.1s\n",
      "3900:\tlearn: 0.6436795\ttest: 0.6524859\tbest: 0.6515842 (0)\ttotal: 1m 30s\tremaining: 25.6s\n",
      "3920:\tlearn: 0.6436774\ttest: 0.6524884\tbest: 0.6515842 (0)\ttotal: 1m 31s\tremaining: 25.1s\n",
      "3940:\tlearn: 0.6436755\ttest: 0.6524899\tbest: 0.6515842 (0)\ttotal: 1m 32s\tremaining: 24.7s\n",
      "3960:\tlearn: 0.6436730\ttest: 0.6524941\tbest: 0.6515842 (0)\ttotal: 1m 32s\tremaining: 24.3s\n",
      "3980:\tlearn: 0.6436703\ttest: 0.6524967\tbest: 0.6515842 (0)\ttotal: 1m 33s\tremaining: 23.8s\n",
      "4000:\tlearn: 0.6436682\ttest: 0.6524998\tbest: 0.6515842 (0)\ttotal: 1m 33s\tremaining: 23.4s\n",
      "4020:\tlearn: 0.6436659\ttest: 0.6525029\tbest: 0.6515842 (0)\ttotal: 1m 34s\tremaining: 22.9s\n",
      "4040:\tlearn: 0.6436640\ttest: 0.6525043\tbest: 0.6515842 (0)\ttotal: 1m 34s\tremaining: 22.4s\n",
      "4060:\tlearn: 0.6436618\ttest: 0.6525063\tbest: 0.6515842 (0)\ttotal: 1m 34s\tremaining: 21.9s\n",
      "4080:\tlearn: 0.6436596\ttest: 0.6525077\tbest: 0.6515842 (0)\ttotal: 1m 35s\tremaining: 21.5s\n",
      "4100:\tlearn: 0.6436574\ttest: 0.6525105\tbest: 0.6515842 (0)\ttotal: 1m 35s\tremaining: 21s\n",
      "4120:\tlearn: 0.6436556\ttest: 0.6525129\tbest: 0.6515842 (0)\ttotal: 1m 36s\tremaining: 20.5s\n",
      "4140:\tlearn: 0.6436537\ttest: 0.6525156\tbest: 0.6515842 (0)\ttotal: 1m 36s\tremaining: 20s\n",
      "4160:\tlearn: 0.6436517\ttest: 0.6525181\tbest: 0.6515842 (0)\ttotal: 1m 36s\tremaining: 19.5s\n",
      "4180:\tlearn: 0.6436492\ttest: 0.6525211\tbest: 0.6515842 (0)\ttotal: 1m 37s\tremaining: 19.1s\n",
      "4200:\tlearn: 0.6436473\ttest: 0.6525245\tbest: 0.6515842 (0)\ttotal: 1m 37s\tremaining: 18.6s\n",
      "4220:\tlearn: 0.6436447\ttest: 0.6525272\tbest: 0.6515842 (0)\ttotal: 1m 38s\tremaining: 18.1s\n",
      "4240:\tlearn: 0.6436419\ttest: 0.6525303\tbest: 0.6515842 (0)\ttotal: 1m 38s\tremaining: 17.6s\n",
      "4260:\tlearn: 0.6436401\ttest: 0.6525323\tbest: 0.6515842 (0)\ttotal: 1m 39s\tremaining: 17.2s\n",
      "4280:\tlearn: 0.6436378\ttest: 0.6525348\tbest: 0.6515842 (0)\ttotal: 1m 39s\tremaining: 16.7s\n",
      "4300:\tlearn: 0.6436360\ttest: 0.6525369\tbest: 0.6515842 (0)\ttotal: 1m 40s\tremaining: 16.3s\n",
      "4320:\tlearn: 0.6436341\ttest: 0.6525391\tbest: 0.6515842 (0)\ttotal: 1m 40s\tremaining: 15.8s\n",
      "4340:\tlearn: 0.6436325\ttest: 0.6525403\tbest: 0.6515842 (0)\ttotal: 1m 40s\tremaining: 15.3s\n",
      "4360:\tlearn: 0.6436305\ttest: 0.6525431\tbest: 0.6515842 (0)\ttotal: 1m 41s\tremaining: 14.9s\n",
      "4380:\tlearn: 0.6436281\ttest: 0.6525463\tbest: 0.6515842 (0)\ttotal: 1m 41s\tremaining: 14.4s\n",
      "4400:\tlearn: 0.6436257\ttest: 0.6525510\tbest: 0.6515842 (0)\ttotal: 1m 42s\tremaining: 13.9s\n",
      "4420:\tlearn: 0.6436240\ttest: 0.6525545\tbest: 0.6515842 (0)\ttotal: 1m 42s\tremaining: 13.4s\n",
      "4440:\tlearn: 0.6436215\ttest: 0.6525574\tbest: 0.6515842 (0)\ttotal: 1m 43s\tremaining: 13s\n",
      "4460:\tlearn: 0.6436191\ttest: 0.6525610\tbest: 0.6515842 (0)\ttotal: 1m 43s\tremaining: 12.5s\n",
      "4480:\tlearn: 0.6436171\ttest: 0.6525636\tbest: 0.6515842 (0)\ttotal: 1m 44s\tremaining: 12s\n",
      "4500:\tlearn: 0.6436138\ttest: 0.6525661\tbest: 0.6515842 (0)\ttotal: 1m 44s\tremaining: 11.6s\n",
      "4520:\tlearn: 0.6436121\ttest: 0.6525693\tbest: 0.6515842 (0)\ttotal: 1m 45s\tremaining: 11.1s\n",
      "4540:\tlearn: 0.6436093\ttest: 0.6525736\tbest: 0.6515842 (0)\ttotal: 1m 45s\tremaining: 10.7s\n",
      "4560:\tlearn: 0.6436073\ttest: 0.6525772\tbest: 0.6515842 (0)\ttotal: 1m 46s\tremaining: 10.2s\n",
      "4580:\tlearn: 0.6436052\ttest: 0.6525789\tbest: 0.6515842 (0)\ttotal: 1m 46s\tremaining: 9.78s\n",
      "4600:\tlearn: 0.6436032\ttest: 0.6525808\tbest: 0.6515842 (0)\ttotal: 1m 47s\tremaining: 9.32s\n",
      "4620:\tlearn: 0.6436009\ttest: 0.6525849\tbest: 0.6515842 (0)\ttotal: 1m 47s\tremaining: 8.85s\n",
      "4640:\tlearn: 0.6435983\ttest: 0.6525874\tbest: 0.6515842 (0)\ttotal: 1m 48s\tremaining: 8.4s\n",
      "4660:\tlearn: 0.6435964\ttest: 0.6525905\tbest: 0.6515842 (0)\ttotal: 1m 49s\tremaining: 7.93s\n",
      "4680:\tlearn: 0.6435944\ttest: 0.6525923\tbest: 0.6515842 (0)\ttotal: 1m 49s\tremaining: 7.47s\n",
      "4700:\tlearn: 0.6435920\ttest: 0.6525963\tbest: 0.6515842 (0)\ttotal: 1m 50s\tremaining: 7.01s\n",
      "4720:\tlearn: 0.6435890\ttest: 0.6526012\tbest: 0.6515842 (0)\ttotal: 1m 50s\tremaining: 6.54s\n",
      "4740:\tlearn: 0.6435871\ttest: 0.6526034\tbest: 0.6515842 (0)\ttotal: 1m 51s\tremaining: 6.07s\n",
      "4760:\tlearn: 0.6435841\ttest: 0.6526082\tbest: 0.6515842 (0)\ttotal: 1m 51s\tremaining: 5.59s\n",
      "4780:\tlearn: 0.6435817\ttest: 0.6526124\tbest: 0.6515842 (0)\ttotal: 1m 51s\tremaining: 5.12s\n",
      "4800:\tlearn: 0.6435795\ttest: 0.6526141\tbest: 0.6515842 (0)\ttotal: 1m 52s\tremaining: 4.65s\n",
      "4820:\tlearn: 0.6435774\ttest: 0.6526177\tbest: 0.6515842 (0)\ttotal: 1m 52s\tremaining: 4.18s\n",
      "4840:\tlearn: 0.6435756\ttest: 0.6526195\tbest: 0.6515842 (0)\ttotal: 1m 53s\tremaining: 3.71s\n",
      "4860:\tlearn: 0.6435740\ttest: 0.6526224\tbest: 0.6515842 (0)\ttotal: 1m 53s\tremaining: 3.25s\n",
      "4880:\tlearn: 0.6435719\ttest: 0.6526252\tbest: 0.6515842 (0)\ttotal: 1m 53s\tremaining: 2.78s\n",
      "4900:\tlearn: 0.6435693\ttest: 0.6526292\tbest: 0.6515842 (0)\ttotal: 1m 54s\tremaining: 2.31s\n",
      "4920:\tlearn: 0.6435672\ttest: 0.6526301\tbest: 0.6515842 (0)\ttotal: 1m 54s\tremaining: 1.84s\n",
      "4940:\tlearn: 0.6435658\ttest: 0.6526317\tbest: 0.6515842 (0)\ttotal: 1m 55s\tremaining: 1.38s\n",
      "4960:\tlearn: 0.6435636\ttest: 0.6526342\tbest: 0.6515842 (0)\ttotal: 1m 55s\tremaining: 911ms\n",
      "4980:\tlearn: 0.6435607\ttest: 0.6526354\tbest: 0.6515842 (0)\ttotal: 1m 56s\tremaining: 443ms\n",
      "4999:\tlearn: 0.6435595\ttest: 0.6526372\tbest: 0.6515842 (0)\ttotal: 1m 56s\tremaining: 0us\n",
      "\n",
      "bestTest = 0.6515842348\n",
      "bestIteration = 0\n",
      "\n",
      "Shrink model to first 1 iterations.\n"
     ]
    }
   ],
   "source": [
    "### Instantiate the Catboost model\n",
    "model = CatBoostRegressor( \n",
    "                          iterations=5000,\n",
    "                          eval_metric=\"RMSE\",\n",
    "                          learning_rate=0.001,\n",
    "                          depth=4,\n",
    "                          loss_function =\"RMSE\",\n",
    "                          random_seed = 55,    \n",
    "                          #od_type ='Iter',    # Overfit detector\n",
    "                          #od_wait = 20,  # most recent best iteration to wait before stopping\n",
    "                          verbose=True,\n",
    "                          use_best_model=True,\n",
    "                         metric_period =20\n",
    "                         )\n",
    "### Now fit the model in the training dataset\n",
    "cat_model = model.fit(X_train,y_train,cat_features= cat_features,use_best_model=True,plot=True,\n",
    "                     eval_set= (X_val,y_val))"
   ]
  },
  {
   "cell_type": "code",
   "execution_count": 80,
   "id": "d3e1022f",
   "metadata": {},
   "outputs": [],
   "source": [
    "## Check the performamce for each model in the training data of the imbalanced data \n",
    "cat_train_perf = model_performance_regression_sklearn(cat_model,X_train,y_train)\n",
    "## Check the performamce for each model in the imbalanced validation data\n",
    "cat_val_perf= model_performance_regression_sklearn(cat_model,X_val,y_val)"
   ]
  },
  {
   "cell_type": "code",
   "execution_count": 81,
   "id": "13edf48a",
   "metadata": {},
   "outputs": [],
   "source": [
    "cat_perf = pd.concat([cat_train_perf.T,cat_val_perf.T],axis=1)\n",
    "cat_perf.columns =[\"Training\",\"Validation\"]"
   ]
  },
  {
   "cell_type": "code",
   "execution_count": 82,
   "id": "1b8032cb",
   "metadata": {},
   "outputs": [
    {
     "name": "stdout",
     "output_type": "stream",
     "text": [
      "Peformance measures on the original data\n"
     ]
    },
    {
     "data": {
      "text/html": [
       "<div>\n",
       "<style scoped>\n",
       "    .dataframe tbody tr th:only-of-type {\n",
       "        vertical-align: middle;\n",
       "    }\n",
       "\n",
       "    .dataframe tbody tr th {\n",
       "        vertical-align: top;\n",
       "    }\n",
       "\n",
       "    .dataframe thead th {\n",
       "        text-align: right;\n",
       "    }\n",
       "</style>\n",
       "<table border=\"1\" class=\"dataframe\">\n",
       "  <thead>\n",
       "    <tr style=\"text-align: right;\">\n",
       "      <th></th>\n",
       "      <th>Training</th>\n",
       "      <th>Validation</th>\n",
       "    </tr>\n",
       "  </thead>\n",
       "  <tbody>\n",
       "    <tr>\n",
       "      <th>Root Mean Squared error</th>\n",
       "      <td>0.645</td>\n",
       "      <td>0.652</td>\n",
       "    </tr>\n",
       "    <tr>\n",
       "      <th>Mean Squared error</th>\n",
       "      <td>0.415</td>\n",
       "      <td>0.425</td>\n",
       "    </tr>\n",
       "    <tr>\n",
       "      <th>Mean Absolute error</th>\n",
       "      <td>0.566</td>\n",
       "      <td>0.570</td>\n",
       "    </tr>\n",
       "    <tr>\n",
       "      <th>R2 Score</th>\n",
       "      <td>-0.000</td>\n",
       "      <td>-0.001</td>\n",
       "    </tr>\n",
       "  </tbody>\n",
       "</table>\n",
       "</div>"
      ],
      "text/plain": [
       "                         Training  Validation\n",
       "Root Mean Squared error     0.645       0.652\n",
       "Mean Squared error          0.415       0.425\n",
       "Mean Absolute error         0.566       0.570\n",
       "R2 Score                   -0.000      -0.001"
      ]
     },
     "execution_count": 82,
     "metadata": {},
     "output_type": "execute_result"
    }
   ],
   "source": [
    "print(\"Peformance measures on the original data\")\n",
    "cat_perf"
   ]
  },
  {
   "cell_type": "markdown",
   "id": "78926004",
   "metadata": {},
   "source": [
    "### Feature Importance for CatBoost Regression"
   ]
  },
  {
   "cell_type": "code",
   "execution_count": 83,
   "id": "5e66e33f",
   "metadata": {},
   "outputs": [
    {
     "data": {
      "image/png": "[encoded data removed]",
      "text/plain": [
       "<Figure size 1200x1200 with 1 Axes>"
      ]
     },
     "metadata": {},
     "output_type": "display_data"
    }
   ],
   "source": [
    " ## Code to check the feature importance on the best model\n",
    "feature_names =features\n",
    "importances =cat_model.feature_importances_   \n",
    "indices = np.argsort(importances)\n",
    "plt.figure(figsize=(12, 12))\n",
    "plt.title(\"Feature Importances\")\n",
    "plt.barh(range(len(indices)), importances[indices], color=\"blue\", align=\"center\")\n",
    "plt.yticks(range(len(indices)), [feature_names[i] for i in indices])\n",
    "plt.xlabel(\"Relative Importance\")\n",
    "plt.show()"
   ]
  },
  {
   "cell_type": "code",
   "execution_count": 84,
   "id": "965d5949",
   "metadata": {},
   "outputs": [
    {
     "data": {
      "text/plain": [
       "Index(['tweet_id', 'safe_text'], dtype='object')"
      ]
     },
     "execution_count": 84,
     "metadata": {},
     "output_type": "execute_result"
    }
   ],
   "source": [
    "test_data.columns"
   ]
  },
  {
   "cell_type": "code",
   "execution_count": 108,
   "id": "a452f83b",
   "metadata": {},
   "outputs": [
    {
     "data": {
      "text/plain": [
       "safe_text    0\n",
       "dtype: int64"
      ]
     },
     "execution_count": 108,
     "metadata": {},
     "output_type": "execute_result"
    }
   ],
   "source": [
    "X_test.isnull().sum()"
   ]
  },
  {
   "cell_type": "code",
   "execution_count": 109,
   "id": "8076a952",
   "metadata": {},
   "outputs": [
    {
     "data": {
      "text/plain": [
       "safe_text    0\n",
       "dtype: int64"
      ]
     },
     "execution_count": 109,
     "metadata": {},
     "output_type": "execute_result"
    }
   ],
   "source": [
    "X_test.isnull().sum()"
   ]
  },
  {
   "cell_type": "code",
   "execution_count": 110,
   "id": "342e7db9",
   "metadata": {},
   "outputs": [],
   "source": [
    "# Code   to predict  the target  variable using the best model on the  testing dataset\n",
    "test_data['label'] = cat_model.predict(X_test)"
   ]
  },
  {
   "cell_type": "code",
   "execution_count": 111,
   "id": "7c37f495",
   "metadata": {},
   "outputs": [
    {
     "data": {
      "text/html": [
       "<div>\n",
       "<style scoped>\n",
       "    .dataframe tbody tr th:only-of-type {\n",
       "        vertical-align: middle;\n",
       "    }\n",
       "\n",
       "    .dataframe tbody tr th {\n",
       "        vertical-align: top;\n",
       "    }\n",
       "\n",
       "    .dataframe thead th {\n",
       "        text-align: right;\n",
       "    }\n",
       "</style>\n",
       "<table border=\"1\" class=\"dataframe\">\n",
       "  <thead>\n",
       "    <tr style=\"text-align: right;\">\n",
       "      <th></th>\n",
       "      <th>tweet_id</th>\n",
       "      <th>safe_text</th>\n",
       "      <th>label</th>\n",
       "    </tr>\n",
       "  </thead>\n",
       "  <tbody>\n",
       "    <tr>\n",
       "      <th>0</th>\n",
       "      <td>00BHHHP1</td>\n",
       "      <td>&lt;user&gt; &lt;user&gt; ... &amp;amp; 4 a vaccine given 2 he...</td>\n",
       "      <td>0.306</td>\n",
       "    </tr>\n",
       "    <tr>\n",
       "      <th>1</th>\n",
       "      <td>00UNMD0E</td>\n",
       "      <td>Students starting school without whooping coug...</td>\n",
       "      <td>0.306</td>\n",
       "    </tr>\n",
       "    <tr>\n",
       "      <th>2</th>\n",
       "      <td>01AXPTJF</td>\n",
       "      <td>I'm kinda over every ep of &lt;user&gt; being \"rippe...</td>\n",
       "      <td>0.306</td>\n",
       "    </tr>\n",
       "    <tr>\n",
       "      <th>3</th>\n",
       "      <td>01HOEQJW</td>\n",
       "      <td>How many innocent children die for lack of vac...</td>\n",
       "      <td>0.306</td>\n",
       "    </tr>\n",
       "    <tr>\n",
       "      <th>4</th>\n",
       "      <td>01JUKMAO</td>\n",
       "      <td>CDC eyeing bird flu vaccine for humans, though...</td>\n",
       "      <td>0.306</td>\n",
       "    </tr>\n",
       "  </tbody>\n",
       "</table>\n",
       "</div>"
      ],
      "text/plain": [
       "   tweet_id                                          safe_text  label\n",
       "0  00BHHHP1  <user> <user> ... &amp; 4 a vaccine given 2 he...  0.306\n",
       "1  00UNMD0E  Students starting school without whooping coug...  0.306\n",
       "2  01AXPTJF  I'm kinda over every ep of <user> being \"rippe...  0.306\n",
       "3  01HOEQJW  How many innocent children die for lack of vac...  0.306\n",
       "4  01JUKMAO  CDC eyeing bird flu vaccine for humans, though...  0.306"
      ]
     },
     "execution_count": 111,
     "metadata": {},
     "output_type": "execute_result"
    }
   ],
   "source": [
    "test_data.head()"
   ]
  },
  {
   "cell_type": "code",
   "execution_count": 113,
   "id": "4ff84504",
   "metadata": {},
   "outputs": [
    {
     "data": {
      "text/plain": [
       "label\n",
       "0.306   0.963\n",
       "0.306   0.017\n",
       "0.306   0.012\n",
       "0.306   0.006\n",
       "0.306   0.001\n",
       "0.306   0.001\n",
       "Name: proportion, dtype: float64"
      ]
     },
     "execution_count": 113,
     "metadata": {},
     "output_type": "execute_result"
    }
   ],
   "source": [
    "test_data['label'].value_counts(normalize=True)"
   ]
  },
  {
   "cell_type": "code",
   "execution_count": 114,
   "id": "9b604497",
   "metadata": {},
   "outputs": [],
   "source": [
    "data_df3 =pd.DataFrame({\"tweet_id\":test_data[\"tweet_id\"],'label':test_data['label']})"
   ]
  },
  {
   "cell_type": "code",
   "execution_count": 115,
   "id": "4a82fa2e",
   "metadata": {},
   "outputs": [
    {
     "data": {
      "text/html": [
       "<div>\n",
       "<style scoped>\n",
       "    .dataframe tbody tr th:only-of-type {\n",
       "        vertical-align: middle;\n",
       "    }\n",
       "\n",
       "    .dataframe tbody tr th {\n",
       "        vertical-align: top;\n",
       "    }\n",
       "\n",
       "    .dataframe thead th {\n",
       "        text-align: right;\n",
       "    }\n",
       "</style>\n",
       "<table border=\"1\" class=\"dataframe\">\n",
       "  <thead>\n",
       "    <tr style=\"text-align: right;\">\n",
       "      <th></th>\n",
       "      <th>tweet_id</th>\n",
       "      <th>label</th>\n",
       "    </tr>\n",
       "  </thead>\n",
       "  <tbody>\n",
       "    <tr>\n",
       "      <th>0</th>\n",
       "      <td>00BHHHP1</td>\n",
       "      <td>0.306</td>\n",
       "    </tr>\n",
       "    <tr>\n",
       "      <th>1</th>\n",
       "      <td>00UNMD0E</td>\n",
       "      <td>0.306</td>\n",
       "    </tr>\n",
       "    <tr>\n",
       "      <th>2</th>\n",
       "      <td>01AXPTJF</td>\n",
       "      <td>0.306</td>\n",
       "    </tr>\n",
       "    <tr>\n",
       "      <th>3</th>\n",
       "      <td>01HOEQJW</td>\n",
       "      <td>0.306</td>\n",
       "    </tr>\n",
       "    <tr>\n",
       "      <th>4</th>\n",
       "      <td>01JUKMAO</td>\n",
       "      <td>0.306</td>\n",
       "    </tr>\n",
       "  </tbody>\n",
       "</table>\n",
       "</div>"
      ],
      "text/plain": [
       "   tweet_id  label\n",
       "0  00BHHHP1  0.306\n",
       "1  00UNMD0E  0.306\n",
       "2  01AXPTJF  0.306\n",
       "3  01HOEQJW  0.306\n",
       "4  01JUKMAO  0.306"
      ]
     },
     "execution_count": 115,
     "metadata": {},
     "output_type": "execute_result"
    }
   ],
   "source": [
    "data_df3.head()"
   ]
  },
  {
   "cell_type": "code",
   "execution_count": 116,
   "id": "e6e6f8ea",
   "metadata": {},
   "outputs": [
    {
     "data": {
      "text/html": [
       "<div>\n",
       "<style scoped>\n",
       "    .dataframe tbody tr th:only-of-type {\n",
       "        vertical-align: middle;\n",
       "    }\n",
       "\n",
       "    .dataframe tbody tr th {\n",
       "        vertical-align: top;\n",
       "    }\n",
       "\n",
       "    .dataframe thead th {\n",
       "        text-align: right;\n",
       "    }\n",
       "</style>\n",
       "<table border=\"1\" class=\"dataframe\">\n",
       "  <thead>\n",
       "    <tr style=\"text-align: right;\">\n",
       "      <th></th>\n",
       "      <th>tweet_id</th>\n",
       "      <th>label</th>\n",
       "    </tr>\n",
       "  </thead>\n",
       "  <tbody>\n",
       "    <tr>\n",
       "      <th>5172</th>\n",
       "      <td>ZXVVNC5O</td>\n",
       "      <td>0.306</td>\n",
       "    </tr>\n",
       "    <tr>\n",
       "      <th>5173</th>\n",
       "      <td>ZYIANVI8</td>\n",
       "      <td>0.306</td>\n",
       "    </tr>\n",
       "    <tr>\n",
       "      <th>5174</th>\n",
       "      <td>ZYITEHAH</td>\n",
       "      <td>0.306</td>\n",
       "    </tr>\n",
       "    <tr>\n",
       "      <th>5175</th>\n",
       "      <td>ZZ3BMBTG</td>\n",
       "      <td>0.306</td>\n",
       "    </tr>\n",
       "    <tr>\n",
       "      <th>5176</th>\n",
       "      <td>ZZIYCVNH</td>\n",
       "      <td>0.306</td>\n",
       "    </tr>\n",
       "  </tbody>\n",
       "</table>\n",
       "</div>"
      ],
      "text/plain": [
       "      tweet_id  label\n",
       "5172  ZXVVNC5O  0.306\n",
       "5173  ZYIANVI8  0.306\n",
       "5174  ZYITEHAH  0.306\n",
       "5175  ZZ3BMBTG  0.306\n",
       "5176  ZZIYCVNH  0.306"
      ]
     },
     "execution_count": 116,
     "metadata": {},
     "output_type": "execute_result"
    }
   ],
   "source": [
    "data_df3.tail()"
   ]
  },
  {
   "cell_type": "code",
   "execution_count": 117,
   "id": "3a7a1894",
   "metadata": {},
   "outputs": [],
   "source": [
    "# code to save the predicted dataset as a csv file\n",
    "data_df3.to_csv(\"Submission_file(Vaccine).csv\",index=False)   # code to save the predicted values as a csv file"
   ]
  },
  {
   "cell_type": "markdown",
   "id": "508d9582",
   "metadata": {},
   "source": [
    "### Insights and conclusions"
   ]
  }
 ],
 "metadata": {
  "kernelspec": {
   "display_name": "Python 3 (ipykernel)",
   "language": "python",
   "name": "python3"
  },
  "language_info": {
   "codemirror_mode": {
    "name": "ipython",
    "version": 3
   },
   "file_extension": ".py",
   "mimetype": "text/x-python",
   "name": "python",
   "nbconvert_exporter": "python",
   "pygments_lexer": "ipython3",
   "version": "3.9.18"
  }
 },
 "nbformat": 4,
 "nbformat_minor": 5
}
